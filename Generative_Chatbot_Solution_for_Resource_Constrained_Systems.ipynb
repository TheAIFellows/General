{
  "nbformat": 4,
  "nbformat_minor": 0,
  "metadata": {
    "accelerator": "GPU",
    "colab": {
      "name": "Generative_Chatbot_Solution_for_Resource_Constrained_Systems.ipynb",
      "provenance": [],
      "collapsed_sections": [
        "MAFktDt-GA_k",
        "Bxiz7_KRGdub",
        "yAX9DtlwlJ7p",
        "fuPv_jCPVMb1",
        "jiPCwPdUVSZ5",
        "SsqnWwebg_2X"
      ],
      "toc_visible": true
    },
    "kernelspec": {
      "display_name": "Python 3",
      "name": "python3"
    }
  },
  "cells": [
    {
      "cell_type": "code",
      "metadata": {
        "id": "IucGDSeYqMpP",
        "colab": {
          "base_uri": "https://localhost:8080/"
        },
        "outputId": "2d81496c-fd22-4956-f327-eb57c3dbf2d5"
      },
      "source": [
        "from google.colab import drive\n",
        "drive.mount('/content/drive', force_remount=True)"
      ],
      "execution_count": null,
      "outputs": [
        {
          "output_type": "stream",
          "text": [
            "Mounted at /content/drive\n"
          ],
          "name": "stdout"
        }
      ]
    },
    {
      "cell_type": "markdown",
      "metadata": {
        "id": "MAFktDt-GA_k"
      },
      "source": [
        "\n",
        "\n",
        "## Import\n",
        "\n",
        "\n"
      ]
    },
    {
      "cell_type": "code",
      "metadata": {
        "id": "_kxfdP4hJUPB",
        "colab": {
          "base_uri": "https://localhost:8080/",
          "height": 1000
        },
        "outputId": "778aef90-b239-41b9-d939-39aa444f53e5"
      },
      "source": [
        "!python --version\n",
        "!pip install tensorflow-addons==0.11.2\n",
        "!pip install tensorflow==2.3.0\n"
      ],
      "execution_count": null,
      "outputs": [
        {
          "output_type": "stream",
          "text": [
            "Python 3.7.10\n",
            "Collecting tensorflow-addons==0.11.2\n",
            "\u001b[?25l  Downloading https://files.pythonhosted.org/packages/f9/9b/198d3745f937d1ab244eabc4ffdc420f84f2b86d6d8f0937f3f0acc1b258/tensorflow_addons-0.11.2-cp37-cp37m-manylinux2010_x86_64.whl (1.1MB)\n",
            "\u001b[K     |████████████████████████████████| 1.1MB 9.1MB/s \n",
            "\u001b[?25hRequirement already satisfied: typeguard>=2.7 in /usr/local/lib/python3.7/dist-packages (from tensorflow-addons==0.11.2) (2.7.1)\n",
            "Installing collected packages: tensorflow-addons\n",
            "Successfully installed tensorflow-addons-0.11.2\n",
            "Collecting tensorflow==2.3.0\n",
            "\u001b[?25l  Downloading https://files.pythonhosted.org/packages/16/89/f2d29c2eafc2eeafb17d5634340e06366af904d332341200a49d954bce85/tensorflow-2.3.0-cp37-cp37m-manylinux2010_x86_64.whl (320.4MB)\n",
            "\u001b[K     |████████████████████████████████| 320.4MB 53kB/s \n",
            "\u001b[?25hRequirement already satisfied: h5py<2.11.0,>=2.10.0 in /usr/local/lib/python3.7/dist-packages (from tensorflow==2.3.0) (2.10.0)\n",
            "Collecting tensorflow-estimator<2.4.0,>=2.3.0\n",
            "\u001b[?25l  Downloading https://files.pythonhosted.org/packages/e9/ed/5853ec0ae380cba4588eab1524e18ece1583b65f7ae0e97321f5ff9dfd60/tensorflow_estimator-2.3.0-py2.py3-none-any.whl (459kB)\n",
            "\u001b[K     |████████████████████████████████| 460kB 19.4MB/s \n",
            "\u001b[?25hRequirement already satisfied: astunparse==1.6.3 in /usr/local/lib/python3.7/dist-packages (from tensorflow==2.3.0) (1.6.3)\n",
            "Requirement already satisfied: wrapt>=1.11.1 in /usr/local/lib/python3.7/dist-packages (from tensorflow==2.3.0) (1.12.1)\n",
            "Requirement already satisfied: termcolor>=1.1.0 in /usr/local/lib/python3.7/dist-packages (from tensorflow==2.3.0) (1.1.0)\n",
            "Requirement already satisfied: scipy==1.4.1 in /usr/local/lib/python3.7/dist-packages (from tensorflow==2.3.0) (1.4.1)\n",
            "Requirement already satisfied: tensorboard<3,>=2.3.0 in /usr/local/lib/python3.7/dist-packages (from tensorflow==2.3.0) (2.4.1)\n",
            "Requirement already satisfied: six>=1.12.0 in /usr/local/lib/python3.7/dist-packages (from tensorflow==2.3.0) (1.15.0)\n",
            "Requirement already satisfied: opt-einsum>=2.3.2 in /usr/local/lib/python3.7/dist-packages (from tensorflow==2.3.0) (3.3.0)\n",
            "Requirement already satisfied: google-pasta>=0.1.8 in /usr/local/lib/python3.7/dist-packages (from tensorflow==2.3.0) (0.2.0)\n",
            "Requirement already satisfied: grpcio>=1.8.6 in /usr/local/lib/python3.7/dist-packages (from tensorflow==2.3.0) (1.32.0)\n",
            "Requirement already satisfied: absl-py>=0.7.0 in /usr/local/lib/python3.7/dist-packages (from tensorflow==2.3.0) (0.10.0)\n",
            "Requirement already satisfied: wheel>=0.26 in /usr/local/lib/python3.7/dist-packages (from tensorflow==2.3.0) (0.36.2)\n",
            "Requirement already satisfied: keras-preprocessing<1.2,>=1.1.1 in /usr/local/lib/python3.7/dist-packages (from tensorflow==2.3.0) (1.1.2)\n",
            "Requirement already satisfied: gast==0.3.3 in /usr/local/lib/python3.7/dist-packages (from tensorflow==2.3.0) (0.3.3)\n",
            "Collecting numpy<1.19.0,>=1.16.0\n",
            "\u001b[?25l  Downloading https://files.pythonhosted.org/packages/d6/c6/58e517e8b1fb192725cfa23c01c2e60e4e6699314ee9684a1c5f5c9b27e1/numpy-1.18.5-cp37-cp37m-manylinux1_x86_64.whl (20.1MB)\n",
            "\u001b[K     |████████████████████████████████| 20.1MB 80.5MB/s \n",
            "\u001b[?25hRequirement already satisfied: protobuf>=3.9.2 in /usr/local/lib/python3.7/dist-packages (from tensorflow==2.3.0) (3.12.4)\n",
            "Requirement already satisfied: google-auth-oauthlib<0.5,>=0.4.1 in /usr/local/lib/python3.7/dist-packages (from tensorboard<3,>=2.3.0->tensorflow==2.3.0) (0.4.3)\n",
            "Requirement already satisfied: markdown>=2.6.8 in /usr/local/lib/python3.7/dist-packages (from tensorboard<3,>=2.3.0->tensorflow==2.3.0) (3.3.4)\n",
            "Requirement already satisfied: werkzeug>=0.11.15 in /usr/local/lib/python3.7/dist-packages (from tensorboard<3,>=2.3.0->tensorflow==2.3.0) (1.0.1)\n",
            "Requirement already satisfied: tensorboard-plugin-wit>=1.6.0 in /usr/local/lib/python3.7/dist-packages (from tensorboard<3,>=2.3.0->tensorflow==2.3.0) (1.8.0)\n",
            "Requirement already satisfied: setuptools>=41.0.0 in /usr/local/lib/python3.7/dist-packages (from tensorboard<3,>=2.3.0->tensorflow==2.3.0) (54.0.0)\n",
            "Requirement already satisfied: google-auth<2,>=1.6.3 in /usr/local/lib/python3.7/dist-packages (from tensorboard<3,>=2.3.0->tensorflow==2.3.0) (1.27.1)\n",
            "Requirement already satisfied: requests<3,>=2.21.0 in /usr/local/lib/python3.7/dist-packages (from tensorboard<3,>=2.3.0->tensorflow==2.3.0) (2.23.0)\n",
            "Requirement already satisfied: requests-oauthlib>=0.7.0 in /usr/local/lib/python3.7/dist-packages (from google-auth-oauthlib<0.5,>=0.4.1->tensorboard<3,>=2.3.0->tensorflow==2.3.0) (1.3.0)\n",
            "Requirement already satisfied: importlib-metadata; python_version < \"3.8\" in /usr/local/lib/python3.7/dist-packages (from markdown>=2.6.8->tensorboard<3,>=2.3.0->tensorflow==2.3.0) (3.7.0)\n",
            "Requirement already satisfied: cachetools<5.0,>=2.0.0 in /usr/local/lib/python3.7/dist-packages (from google-auth<2,>=1.6.3->tensorboard<3,>=2.3.0->tensorflow==2.3.0) (4.2.1)\n",
            "Requirement already satisfied: pyasn1-modules>=0.2.1 in /usr/local/lib/python3.7/dist-packages (from google-auth<2,>=1.6.3->tensorboard<3,>=2.3.0->tensorflow==2.3.0) (0.2.8)\n",
            "Requirement already satisfied: rsa<5,>=3.1.4; python_version >= \"3.6\" in /usr/local/lib/python3.7/dist-packages (from google-auth<2,>=1.6.3->tensorboard<3,>=2.3.0->tensorflow==2.3.0) (4.7.2)\n",
            "Requirement already satisfied: urllib3!=1.25.0,!=1.25.1,<1.26,>=1.21.1 in /usr/local/lib/python3.7/dist-packages (from requests<3,>=2.21.0->tensorboard<3,>=2.3.0->tensorflow==2.3.0) (1.24.3)\n",
            "Requirement already satisfied: chardet<4,>=3.0.2 in /usr/local/lib/python3.7/dist-packages (from requests<3,>=2.21.0->tensorboard<3,>=2.3.0->tensorflow==2.3.0) (3.0.4)\n",
            "Requirement already satisfied: idna<3,>=2.5 in /usr/local/lib/python3.7/dist-packages (from requests<3,>=2.21.0->tensorboard<3,>=2.3.0->tensorflow==2.3.0) (2.10)\n",
            "Requirement already satisfied: certifi>=2017.4.17 in /usr/local/lib/python3.7/dist-packages (from requests<3,>=2.21.0->tensorboard<3,>=2.3.0->tensorflow==2.3.0) (2020.12.5)\n",
            "Requirement already satisfied: oauthlib>=3.0.0 in /usr/local/lib/python3.7/dist-packages (from requests-oauthlib>=0.7.0->google-auth-oauthlib<0.5,>=0.4.1->tensorboard<3,>=2.3.0->tensorflow==2.3.0) (3.1.0)\n",
            "Requirement already satisfied: typing-extensions>=3.6.4; python_version < \"3.8\" in /usr/local/lib/python3.7/dist-packages (from importlib-metadata; python_version < \"3.8\"->markdown>=2.6.8->tensorboard<3,>=2.3.0->tensorflow==2.3.0) (3.7.4.3)\n",
            "Requirement already satisfied: zipp>=0.5 in /usr/local/lib/python3.7/dist-packages (from importlib-metadata; python_version < \"3.8\"->markdown>=2.6.8->tensorboard<3,>=2.3.0->tensorflow==2.3.0) (3.4.1)\n",
            "Requirement already satisfied: pyasn1<0.5.0,>=0.4.6 in /usr/local/lib/python3.7/dist-packages (from pyasn1-modules>=0.2.1->google-auth<2,>=1.6.3->tensorboard<3,>=2.3.0->tensorflow==2.3.0) (0.4.8)\n",
            "\u001b[31mERROR: datascience 0.10.6 has requirement folium==0.2.1, but you'll have folium 0.8.3 which is incompatible.\u001b[0m\n",
            "\u001b[31mERROR: albumentations 0.1.12 has requirement imgaug<0.2.7,>=0.2.5, but you'll have imgaug 0.2.9 which is incompatible.\u001b[0m\n",
            "Installing collected packages: tensorflow-estimator, numpy, tensorflow\n",
            "  Found existing installation: tensorflow-estimator 2.4.0\n",
            "    Uninstalling tensorflow-estimator-2.4.0:\n",
            "      Successfully uninstalled tensorflow-estimator-2.4.0\n",
            "  Found existing installation: numpy 1.19.5\n",
            "    Uninstalling numpy-1.19.5:\n",
            "      Successfully uninstalled numpy-1.19.5\n",
            "  Found existing installation: tensorflow 2.4.1\n",
            "    Uninstalling tensorflow-2.4.1:\n",
            "      Successfully uninstalled tensorflow-2.4.1\n",
            "Successfully installed numpy-1.18.5 tensorflow-2.3.0 tensorflow-estimator-2.3.0\n"
          ],
          "name": "stdout"
        },
        {
          "output_type": "display_data",
          "data": {
            "application/vnd.colab-display-data+json": {
              "pip_warning": {
                "packages": [
                  "numpy"
                ]
              }
            }
          },
          "metadata": {
            "tags": []
          }
        }
      ]
    },
    {
      "cell_type": "code",
      "metadata": {
        "colab": {
          "base_uri": "https://localhost:8080/"
        },
        "id": "2IhMUUzK1wZe",
        "outputId": "5073fc75-50db-4ce5-8e81-c7ff1ca74918"
      },
      "source": [
        "!pip install contractions\n",
        "!pip install nltk"
      ],
      "execution_count": null,
      "outputs": [
        {
          "output_type": "stream",
          "text": [
            "Collecting contractions\n",
            "  Downloading https://files.pythonhosted.org/packages/0a/04/d5e0bb9f2cef5d15616ebf68087a725c5dbdd71bd422bcfb35d709f98ce7/contractions-0.0.48-py2.py3-none-any.whl\n",
            "Collecting textsearch>=0.0.21\n",
            "  Downloading https://files.pythonhosted.org/packages/d3/fe/021d7d76961b5ceb9f8d022c4138461d83beff36c3938dc424586085e559/textsearch-0.0.21-py2.py3-none-any.whl\n",
            "Collecting anyascii\n",
            "\u001b[?25l  Downloading https://files.pythonhosted.org/packages/09/c7/61370d9e3c349478e89a5554c1e5d9658e1e3116cc4f2528f568909ebdf1/anyascii-0.1.7-py3-none-any.whl (260kB)\n",
            "\u001b[K     |████████████████████████████████| 266kB 13.4MB/s \n",
            "\u001b[?25hCollecting pyahocorasick\n",
            "\u001b[?25l  Downloading https://files.pythonhosted.org/packages/4a/92/b3c70b8cf2b76f7e3e8b7243d6f06f7cb3bab6ada237b1bce57604c5c519/pyahocorasick-1.4.1.tar.gz (321kB)\n",
            "\u001b[K     |████████████████████████████████| 327kB 21.5MB/s \n",
            "\u001b[?25hBuilding wheels for collected packages: pyahocorasick\n",
            "  Building wheel for pyahocorasick (setup.py) ... \u001b[?25l\u001b[?25hdone\n",
            "  Created wheel for pyahocorasick: filename=pyahocorasick-1.4.1-cp37-cp37m-linux_x86_64.whl size=85251 sha256=3fec631319fc62b999b9ce6efb39ce57fdc6a16212c31c5072ff6cfa9ff066c1\n",
            "  Stored in directory: /root/.cache/pip/wheels/e4/ab/f7/cb39270df8f6126f3dd4c33d302357167086db460968cfc80c\n",
            "Successfully built pyahocorasick\n",
            "Installing collected packages: anyascii, pyahocorasick, textsearch, contractions\n",
            "Successfully installed anyascii-0.1.7 contractions-0.0.48 pyahocorasick-1.4.1 textsearch-0.0.21\n",
            "Requirement already satisfied: nltk in /usr/local/lib/python3.7/dist-packages (3.2.5)\n",
            "Requirement already satisfied: six in /usr/local/lib/python3.7/dist-packages (from nltk) (1.15.0)\n"
          ],
          "name": "stdout"
        }
      ]
    },
    {
      "cell_type": "code",
      "metadata": {
        "id": "3pFnEemkzJDc",
        "colab": {
          "base_uri": "https://localhost:8080/"
        },
        "outputId": "f5812d72-2f15-4435-f6e2-900aec8bd98c"
      },
      "source": [
        "!wget http://nlp.stanford.edu/data/glove.6B.zip -O glove.zip\n",
        "!unzip glove.zip"
      ],
      "execution_count": null,
      "outputs": [
        {
          "output_type": "stream",
          "text": [
            "--2021-03-13 10:22:35--  http://nlp.stanford.edu/data/glove.6B.zip\n",
            "Resolving nlp.stanford.edu (nlp.stanford.edu)... 171.64.67.140\n",
            "Connecting to nlp.stanford.edu (nlp.stanford.edu)|171.64.67.140|:80... connected.\n",
            "HTTP request sent, awaiting response... 302 Found\n",
            "Location: https://nlp.stanford.edu/data/glove.6B.zip [following]\n",
            "--2021-03-13 10:22:35--  https://nlp.stanford.edu/data/glove.6B.zip\n",
            "Connecting to nlp.stanford.edu (nlp.stanford.edu)|171.64.67.140|:443... connected.\n",
            "HTTP request sent, awaiting response... 301 Moved Permanently\n",
            "Location: http://downloads.cs.stanford.edu/nlp/data/glove.6B.zip [following]\n",
            "--2021-03-13 10:22:36--  http://downloads.cs.stanford.edu/nlp/data/glove.6B.zip\n",
            "Resolving downloads.cs.stanford.edu (downloads.cs.stanford.edu)... 171.64.64.22\n",
            "Connecting to downloads.cs.stanford.edu (downloads.cs.stanford.edu)|171.64.64.22|:80... connected.\n",
            "HTTP request sent, awaiting response... 200 OK\n",
            "Length: 862182613 (822M) [application/zip]\n",
            "Saving to: ‘glove.zip’\n",
            "\n",
            "glove.zip           100%[===================>] 822.24M  5.09MB/s    in 2m 42s  \n",
            "\n",
            "2021-03-13 10:25:18 (5.07 MB/s) - ‘glove.zip’ saved [862182613/862182613]\n",
            "\n",
            "Archive:  glove.zip\n",
            "  inflating: glove.6B.50d.txt        \n",
            "  inflating: glove.6B.100d.txt       \n",
            "  inflating: glove.6B.200d.txt       \n",
            "  inflating: glove.6B.300d.txt       \n"
          ],
          "name": "stdout"
        }
      ]
    },
    {
      "cell_type": "markdown",
      "metadata": {
        "id": "_RebXH-JGWaB"
      },
      "source": [
        "\n",
        "\n",
        "> Import \n",
        "\n"
      ]
    },
    {
      "cell_type": "code",
      "metadata": {
        "id": "nZNFU5nadLXw"
      },
      "source": [
        "import matplotlib.pyplot as plt\n",
        "import matplotlib.ticker as ticker\n",
        "import pandas as pd \n",
        "import numpy as np\n",
        "import re\n",
        "import random\n",
        "import time\n",
        "import os\n",
        "import io\n",
        "import unicodedata\n",
        "\n",
        "import contractions\n",
        "import nltk\n",
        "from nltk.stem import WordNetLemmatizer\n",
        "from nltk.corpus import stopwords\n",
        "\n",
        "import tensorflow as tf\n",
        "import tensorflow_addons as tfa\n",
        "assert tf.__version__.startswith('2')\n",
        "tf.random.set_seed(1234)\n",
        "\n",
        "from tensorflow import keras\n",
        "from keras.layers import *\n",
        "from keras.models import Model\n",
        "from sklearn.model_selection import train_test_split"
      ],
      "execution_count": null,
      "outputs": []
    },
    {
      "cell_type": "code",
      "metadata": {
        "id": "FGxMy9X-GBSi",
        "colab": {
          "base_uri": "https://localhost:8080/"
        },
        "outputId": "e0d82d0d-8944-4533-bc1c-2c52b7a96f09"
      },
      "source": [
        "nltk.download('wordnet')\n",
        "\n",
        "nltk.download('stopwords')\n",
        "\n",
        "stop = set(stopwords.words('english'))\n",
        "len(stop)\n",
        "\n",
        "lemma = WordNetLemmatizer()\n"
      ],
      "execution_count": null,
      "outputs": [
        {
          "output_type": "stream",
          "text": [
            "[nltk_data] Downloading package wordnet to /root/nltk_data...\n",
            "[nltk_data]   Unzipping corpora/wordnet.zip.\n",
            "[nltk_data] Downloading package stopwords to /root/nltk_data...\n",
            "[nltk_data]   Unzipping corpora/stopwords.zip.\n"
          ],
          "name": "stdout"
        }
      ]
    },
    {
      "cell_type": "markdown",
      "metadata": {
        "id": "Bxiz7_KRGdub"
      },
      "source": [
        "\n",
        "\n",
        "## Preprocessing\n",
        "\n"
      ]
    },
    {
      "cell_type": "code",
      "metadata": {
        "id": "X6G2oz7xGBSk"
      },
      "source": [
        "keep_list = ['who', 'what', 'when', 'why', 'how', 'which', 'where', 'whom',\n",
        "             'be',  'have', 'do', 'can', 'not', 'will', 'go', 'no', 'to', 'is', 'am', 'are', 'has',\n",
        "             'my', 'your', 'his', 'her', 'its', 'our', 'their',\n",
        "             'i', 'you', 'he', 'she', 'it', 'we', 'they']\n"
      ],
      "execution_count": null,
      "outputs": []
    },
    {
      "cell_type": "code",
      "metadata": {
        "id": "KW_xDV8uDqQn"
      },
      "source": [
        "def remove_contractions(q):\n",
        "  \n",
        "  sent = ''\n",
        "  \n",
        "  expanded_words = []\n",
        "  t = q.split()\n",
        "  for word in t:\n",
        "    expanded_words.append(contractions.fix(word))\n",
        "    sent = ' '.join(expanded_words)\n",
        "\n",
        "  return sent"
      ],
      "execution_count": null,
      "outputs": []
    },
    {
      "cell_type": "code",
      "metadata": {
        "id": "-SD49Ym4EgO1"
      },
      "source": [
        "def remove_punct(sentence):\n",
        " \n",
        "  sentence = sentence.lower().strip()\n",
        " \n",
        "  sentence = re.sub(r\"([?.!,])\", r\" \\1 \", sentence)\n",
        "  \n",
        "  sentence = re.sub(r\"[^a-zA-Z?.!,]+\", \" \", sentence)\n",
        "  sentence = sentence.strip()\n",
        "  return sentence"
      ],
      "execution_count": null,
      "outputs": []
    },
    {
      "cell_type": "code",
      "metadata": {
        "id": "PULQf9_wIKNX"
      },
      "source": [
        "def lemm(q):\n",
        "  sent = ''\n",
        "\n",
        "  token_list = q.split()\n",
        "  sent = ' '.join([lemma.lemmatize(token) for token in token_list])\n",
        "  \n",
        "\n",
        "  return sent"
      ],
      "execution_count": null,
      "outputs": []
    },
    {
      "cell_type": "code",
      "metadata": {
        "id": "MFwH-oCTebMU"
      },
      "source": [
        "def len_char(quest):\n",
        "  q_len_char = []\n",
        "  for line in quest:\n",
        "    q_len_char.append(len(line))\n",
        "  return q_len_char"
      ],
      "execution_count": null,
      "outputs": []
    },
    {
      "cell_type": "code",
      "metadata": {
        "id": "Jjtg0OYqeo01"
      },
      "source": [
        "def len_word(quest):\n",
        "  q_len_word = []\n",
        "  for line in quest:\n",
        "    t = line.split()\n",
        "    q_len_word.append(len(t))\n",
        "  return q_len_word"
      ],
      "execution_count": null,
      "outputs": []
    },
    {
      "cell_type": "code",
      "metadata": {
        "id": "eOtjN4QefANk"
      },
      "source": [
        "def mean_calc(list_char_word):\n",
        "  q_char_mean = 0\n",
        "  for x in list_char_word:\n",
        "    q_char_mean += x\n",
        "  q_char_mean = q_char_mean/len(list_char_word)\n",
        "  return q_char_mean"
      ],
      "execution_count": null,
      "outputs": []
    },
    {
      "cell_type": "code",
      "metadata": {
        "id": "PsbcremLeBfg"
      },
      "source": [
        "def data_stats(q_list, a_list):\n",
        "  q_char = len_char(q_list)\n",
        "  a_char = len_char(a_list)\n",
        "  q_word = len_word(q_list)\n",
        "  a_word = len_word(a_list)\n",
        "\n",
        "  q_char_mean = mean_calc(q_char)\n",
        "  a_char_mean = mean_calc(a_char)\n",
        "  q_word_mean = mean_calc(q_word)\n",
        "  a_word_mean = mean_calc(a_word)\n",
        "\n",
        "  print('mean char q: ', q_char_mean)\n",
        "  print('mean word q: ', q_word_mean)\n",
        "  print('mean char a: ', a_char_mean)\n",
        "  print('mean word q: ', a_word_mean)"
      ],
      "execution_count": null,
      "outputs": []
    },
    {
      "cell_type": "code",
      "metadata": {
        "id": "XOO3RGJ-W6TA"
      },
      "source": [
        "def limit_range(q, a, rng):\n",
        "  q_range = []\n",
        "  for i in range(len(q)):\n",
        "    t = q[i].split()\n",
        "    q_range.append(' '.join(t[:(rng)]))\n",
        "  a_range = []\n",
        "  for i in range(len(a)):\n",
        "    t = a[i].split()\n",
        "    a_range.append(' '.join(t[:(rng)]))\n",
        "  \n",
        "  return q_range, a_range"
      ],
      "execution_count": null,
      "outputs": []
    },
    {
      "cell_type": "code",
      "metadata": {
        "id": "YpslQeTxIzJ8"
      },
      "source": [
        "def create_voc(voc, q, a):\n",
        "  for question in q:\n",
        "    for word in question.split():\n",
        "        if word not in voc:\n",
        "            voc[word] = 1\n",
        "        else:\n",
        "            voc[word] += 1\n",
        "\n",
        "  for question in a:\n",
        "      for word in question.split():\n",
        "          if word not in voc:\n",
        "              voc[word] = 1\n",
        "          else:\n",
        "              voc[word] += 1\n",
        "  \n",
        "  print(\"Size of total vocab:\", len(voc))\n",
        "  return voc"
      ],
      "execution_count": null,
      "outputs": []
    },
    {
      "cell_type": "code",
      "metadata": {
        "id": "yr5_qsOAJtZ3"
      },
      "source": [
        "def create_freq_voc(v_q, e_dct, t):\n",
        "  word_num = 0\n",
        "  for word, count in v_q.items():\n",
        "    if count >= t:\n",
        "      if word not in e_dct:\n",
        "        e_dct[word] = word_num\n",
        "        word_num += 1\n",
        "  \n",
        "  return e_dct"
      ],
      "execution_count": null,
      "outputs": []
    },
    {
      "cell_type": "code",
      "metadata": {
        "id": "_ARZU_HnLb2t"
      },
      "source": [
        "def remove_empty(q, a):\n",
        "  for i in q:\n",
        "    if i == ' ':\n",
        "      del q[q.index(i)]\n",
        "      del a[q.index(i)]\n",
        "\n",
        "  for i in a:\n",
        "    if i == ' ':\n",
        "      del a[a.index(i)]\n",
        "      del q[a.index(i)]\n",
        "\n",
        "  return q, a"
      ],
      "execution_count": null,
      "outputs": []
    },
    {
      "cell_type": "code",
      "metadata": {
        "id": "LaIj2eVrdOEA"
      },
      "source": [
        "def remove_bad(q, a, bad):\n",
        "  questions_f = []\n",
        "  answers_f = []\n",
        "\n",
        "  for line in q:\n",
        "    t = line.split()\n",
        "    sent = []\n",
        "    for word in t:\n",
        "      if word not in bad:\n",
        "        sent.append(word)\n",
        "    questions_f.append(' '.join([y for y in sent]))\n",
        "\n",
        "  for line in a:\n",
        "    t = line.split()\n",
        "    sent = []\n",
        "    for word in t:\n",
        "      if word not in bad:\n",
        "        sent.append(word)\n",
        "    answers_f.append(' '.join([y for y in sent]))\n",
        "  return questions_f, answers_f"
      ],
      "execution_count": null,
      "outputs": []
    },
    {
      "cell_type": "markdown",
      "metadata": {
        "id": "yAX9DtlwlJ7p"
      },
      "source": [
        "## Architecture"
      ]
    },
    {
      "cell_type": "code",
      "metadata": {
        "id": "S17Nfn6W_vhd",
        "colab": {
          "base_uri": "https://localhost:8080/"
        },
        "outputId": "c5bf1cb0-45ef-4238-a4be-33987e22b6a9"
      },
      "source": [
        "path_to_zip = tf.keras.utils.get_file(\n",
        "    'cornell_movie_dialogs.zip',\n",
        "    origin=\n",
        "    'http://www.cs.cornell.edu/~cristian/data/cornell_movie_dialogs_corpus.zip',\n",
        "    extract=True)\n",
        "\n",
        "path_to_dataset = os.path.join(\n",
        "    os.path.dirname(path_to_zip), \"cornell movie-dialogs corpus\")\n",
        "\n",
        "path_to_movie_lines = os.path.join(path_to_dataset, 'movie_lines.txt')\n",
        "path_to_movie_conversations = os.path.join(path_to_dataset,\n",
        "                                           'movie_conversations.txt')"
      ],
      "execution_count": null,
      "outputs": [
        {
          "output_type": "stream",
          "text": [
            "Downloading data from http://www.cs.cornell.edu/~cristian/data/cornell_movie_dialogs_corpus.zip\n",
            "9920512/9916637 [==============================] - 1s 0us/step\n"
          ],
          "name": "stdout"
        }
      ]
    },
    {
      "cell_type": "code",
      "metadata": {
        "id": "xZQeuC4oD4ea"
      },
      "source": [
        "def prep_sent(sentence):\n",
        "  sentence = remove_contractions(sentence)\n",
        "  sentence = remove_punct(sentence)\n",
        "  sentence = lemm(sentence)\n",
        "  return sentence\n"
      ],
      "execution_count": null,
      "outputs": []
    },
    {
      "cell_type": "code",
      "metadata": {
        "id": "_B147qKb_0ks"
      },
      "source": [
        "# Maximum number of samples to preprocess\n",
        "MAX_SAMPLES = 15000\n",
        "\n",
        "\n",
        "def load_conversations():\n",
        "  # dictionary of line id to text\n",
        "  id2line = {}\n",
        "  with open(path_to_movie_lines, errors='ignore') as file:\n",
        "    lines = file.readlines()\n",
        "  for line in lines:\n",
        "    parts = line.replace('\\n', '').split(' +++$+++ ')\n",
        "    id2line[parts[0]] = parts[4]\n",
        "\n",
        "  inputs, outputs = [], []\n",
        "  with open(path_to_movie_conversations, 'r') as file:\n",
        "    lines = file.readlines()\n",
        "  for line in lines:\n",
        "    parts = line.replace('\\n', '').split(' +++$+++ ')\n",
        "    # get conversation in a list of line ID\n",
        "    conversation = [line[1:-1] for line in parts[3][1:-1].split(', ')]\n",
        "    for i in range(len(conversation) - 1):\n",
        "      inputs.append(prep_sent(id2line[conversation[i]]))\n",
        "      outputs.append(prep_sent(id2line[conversation[i + 1]]))\n",
        "      if len(inputs) >= MAX_SAMPLES:\n",
        "        return inputs, outputs\n",
        "  return inputs, outputs\n",
        "\n",
        "\n",
        "questions, answers = load_conversations()"
      ],
      "execution_count": null,
      "outputs": []
    },
    {
      "cell_type": "code",
      "metadata": {
        "id": "2BwoaEwc2PBa"
      },
      "source": [
        "data_stats(questions, answers)"
      ],
      "execution_count": null,
      "outputs": []
    },
    {
      "cell_type": "code",
      "metadata": {
        "id": "wvedd-ZwTVzW"
      },
      "source": [
        "questions, answers = limit_range(questions, answers, 25)"
      ],
      "execution_count": null,
      "outputs": []
    },
    {
      "cell_type": "code",
      "metadata": {
        "id": "cVjpkrNwPfrN",
        "colab": {
          "base_uri": "https://localhost:8080/"
        },
        "outputId": "e75c36a2-cd57-41da-b21f-3e127988e809"
      },
      "source": [
        "voc = {}\n",
        "voc = create_voc(voc, questions, answers)\n",
        "\n",
        "enc_dict = {}\n",
        "enc_dict = create_freq_voc(voc, enc_dict, 25)\n",
        "print(len(enc_dict))"
      ],
      "execution_count": null,
      "outputs": [
        {
          "output_type": "stream",
          "text": [
            "Size of total vocab: 9695\n",
            "1072\n"
          ],
          "name": "stdout"
        }
      ]
    },
    {
      "cell_type": "code",
      "metadata": {
        "colab": {
          "base_uri": "https://localhost:8080/"
        },
        "id": "tlkll7PWjBA-",
        "outputId": "c1386ea0-7a8a-46fd-a63f-034e8b7cd4ab"
      },
      "source": [
        "word_trend = []\n",
        "for i in range(100):\n",
        "  enc_dict = {}\n",
        "  enc_dict = create_freq_voc(voc, enc_dict, i+1)\n",
        "  word_trend.append(len(enc_dict))\n",
        "\n",
        "print(word_trend)"
      ],
      "execution_count": null,
      "outputs": [
        {
          "output_type": "stream",
          "text": [
            "[18995, 12643, 7127, 5553, 4376, 3724, 3191, 2798, 2471, 2240, 2053, 1883, 1767, 1663, 1558, 1460, 1379, 1311, 1253, 1209, 1136, 1079, 1029, 978, 946, 908, 880, 854, 820, 795, 769, 748, 736, 719, 705, 688, 676, 661, 648, 631, 609, 599, 592, 583, 574, 560, 550, 540, 536, 527, 521, 512, 500, 494, 485, 473, 463, 460, 456, 451, 445, 439, 435, 427, 421, 415, 411, 407, 400, 396, 393, 387, 384, 375, 372, 364, 357, 351, 350, 349, 345, 343, 341, 334, 332, 332, 327, 324, 320, 315, 312, 310, 306, 299, 296, 292, 289, 287, 286, 284]\n"
          ],
          "name": "stdout"
        }
      ]
    },
    {
      "cell_type": "code",
      "metadata": {
        "colab": {
          "base_uri": "https://localhost:8080/",
          "height": 367
        },
        "id": "5Qhm1yKtkV06",
        "outputId": "93e66498-2cab-42e9-c4dd-78f5e86c06e3"
      },
      "source": [
        "fig = plt.figure(figsize=(9,5))\n",
        "ax = fig.add_subplot(1, 1, 1)\n",
        "line1 = ax.plot(word_trend)\n",
        "# line2 = ax.plot(history[2])\n",
        "ax.set_title('Words per Threshold')\n",
        "ax.set_ylabel('Words')\n",
        "ax.set_xlabel('Threshold')\n",
        "# ax.legend(('Train Loss', 'Val Loss'))\n",
        "# plt.savefig('Model[Units{}Epochs{}Run{}]Loss'.format(units, EPOCHS, run))"
      ],
      "execution_count": null,
      "outputs": [
        {
          "output_type": "execute_result",
          "data": {
            "text/plain": [
              "Text(0.5, 0, 'Threshold')"
            ]
          },
          "metadata": {
            "tags": []
          },
          "execution_count": 34
        },
        {
          "output_type": "display_data",
          "data": {
            "image/png": "[encoded data removed]",
            "text/plain": [
              "<Figure size 648x360 with 1 Axes>"
            ]
          },
          "metadata": {
            "tags": [],
            "needs_background": "light"
          }
        }
      ]
    },
    {
      "cell_type": "code",
      "metadata": {
        "id": "gokfGyYoOz2O"
      },
      "source": [
        "to_remove = []\n",
        "for wrd in voc.keys():\n",
        "  if wrd not in keep_list:\n",
        "    if wrd not in enc_dict:\n",
        "      to_remove.append(wrd)"
      ],
      "execution_count": null,
      "outputs": []
    },
    {
      "cell_type": "code",
      "metadata": {
        "id": "KC87GTWYRnb-"
      },
      "source": [
        "questions, answers = remove_bad(questions, answers, to_remove)"
      ],
      "execution_count": null,
      "outputs": []
    },
    {
      "cell_type": "code",
      "metadata": {
        "id": "n2HZIrTh_mZH"
      },
      "source": [
        "questions, answers = limit_range(questions, answers, 10)"
      ],
      "execution_count": null,
      "outputs": []
    },
    {
      "cell_type": "code",
      "metadata": {
        "id": "piuk1UiU0fvx"
      },
      "source": [
        "for i in range(len(questions)):\n",
        "  questions[i] = '<start> ' + questions[i] + ' <end>'\n",
        "  answers[i] = '<start> ' + answers[i] + ' <end>'"
      ],
      "execution_count": null,
      "outputs": []
    },
    {
      "cell_type": "code",
      "metadata": {
        "id": "tIV_mcOFFPvA"
      },
      "source": [
        "from sklearn.model_selection import train_test_split\n",
        "\n",
        "def tokenize(lang):\n",
        "        \n",
        "  lang_tokenizer = tf.keras.preprocessing.text.Tokenizer(filters='', oov_token='<OOV>')\n",
        "  lang_tokenizer.fit_on_texts(lang)\n",
        "\n",
        "  tensor = lang_tokenizer.texts_to_sequences(lang) \n",
        "\n",
        "  tensor = tf.keras.preprocessing.sequence.pad_sequences(tensor, padding='post')\n",
        "\n",
        "  return tensor, lang_tokenizer\n",
        "\n",
        "BUFFER_SIZE = 500\n",
        "BATCH_SIZE = 100\n",
        "\n",
        "input_tensor, inp_lang = tokenize(questions)\n",
        "target_tensor, targ_lang = tokenize(answers)\n",
        "\n",
        "input_tensor_train, input_tensor_val, target_tensor_train, target_tensor_val = train_test_split(input_tensor, target_tensor, test_size=0.1)\n",
        "\n",
        "train_dataset = tf.data.Dataset.from_tensor_slices((input_tensor_train, target_tensor_train))\n",
        "train_dataset = train_dataset.shuffle(BUFFER_SIZE).batch(BATCH_SIZE, drop_remainder=True)\n",
        "\n",
        "val_dataset = tf.data.Dataset.from_tensor_slices((input_tensor_val, target_tensor_val))\n",
        "val_dataset = val_dataset.batch(BATCH_SIZE, drop_remainder=True)"
      ],
      "execution_count": null,
      "outputs": []
    },
    {
      "cell_type": "code",
      "metadata": {
        "id": "HYtRmUPMzoY4"
      },
      "source": [
        "len(questions)\n",
        "num_examples = MAX_SAMPLES"
      ],
      "execution_count": null,
      "outputs": []
    },
    {
      "cell_type": "code",
      "metadata": {
        "colab": {
          "base_uri": "https://localhost:8080/"
        },
        "id": "w2lCTy4vKOkB",
        "outputId": "3776e98b-788b-41f1-8b19-2a8fa8be5cd9"
      },
      "source": [
        "example_input_batch, example_target_batch = next(iter(train_dataset))\n",
        "example_input_batch.shape, example_target_batch.shape"
      ],
      "execution_count": null,
      "outputs": [
        {
          "output_type": "execute_result",
          "data": {
            "text/plain": [
              "(TensorShape([100, 12]), TensorShape([100, 12]))"
            ]
          },
          "metadata": {
            "tags": []
          },
          "execution_count": 27
        }
      ]
    },
    {
      "cell_type": "code",
      "metadata": {
        "id": "TqHsArVZ3jFS"
      },
      "source": [
        "vocab_inp_size = len(inp_lang.word_index)+1\n",
        "vocab_tar_size = len(targ_lang.word_index)+1\n",
        "max_length_input = example_input_batch.shape[1]\n",
        "max_length_output = example_target_batch.shape[1]\n",
        "\n",
        "units = 1024\n",
        "steps_per_epoch = num_examples//BATCH_SIZE"
      ],
      "execution_count": null,
      "outputs": []
    },
    {
      "cell_type": "code",
      "metadata": {
        "colab": {
          "base_uri": "https://localhost:8080/"
        },
        "id": "g-yY9c6aIu1h",
        "outputId": "bb6a39ff-e47e-4a1e-f9cf-e0de7b111bd0"
      },
      "source": [
        "print(\"max_length_input, max_length_target, vocab_size_input, vocab_size_target\")\n",
        "max_length_input, max_length_output, vocab_inp_size, vocab_tar_size"
      ],
      "execution_count": null,
      "outputs": [
        {
          "output_type": "stream",
          "text": [
            "max_length_input, max_length_target, vocab_size_input, vocab_size_target\n"
          ],
          "name": "stdout"
        },
        {
          "output_type": "execute_result",
          "data": {
            "text/plain": [
              "(12, 12, 6355, 6189)"
            ]
          },
          "metadata": {
            "tags": []
          },
          "execution_count": 29
        }
      ]
    },
    {
      "cell_type": "code",
      "metadata": {
        "colab": {
          "base_uri": "https://localhost:8080/"
        },
        "id": "kVTvmnRIh4MD",
        "outputId": "7150c9f7-81d4-48af-e680-ffaa3284eb8e"
      },
      "source": [
        "embeddings_index = {}\n",
        "with open('/content/drive/MyDrive/Dati/glove.6B.50d.txt', encoding='utf-8') as f:\n",
        "    for line in f:\n",
        "        values = line.split()\n",
        "        word = values[0]\n",
        "        coefs = np.asarray(values[1:], dtype='float16')\n",
        "        embeddings_index[word] = coefs\n",
        "    f.close()\n",
        "\n",
        "print(\"Glove Loded!\")"
      ],
      "execution_count": null,
      "outputs": [
        {
          "output_type": "stream",
          "text": [
            "Glove Loded!\n"
          ],
          "name": "stdout"
        }
      ]
    },
    {
      "cell_type": "code",
      "metadata": {
        "id": "GUbRBznMeKUn"
      },
      "source": [
        "embedding_dimention = 50\n",
        "\n",
        "embedding_matrix_enc = np.zeros((len(inp_lang.word_index)+1, embedding_dimention))\n",
        "for word, i in inp_lang.word_index.items():\n",
        "    embedding_vector = embeddings_index.get(word)\n",
        "    if embedding_vector is not None:\n",
        "      # words not found in embedding index will be all-zeros.\n",
        "        embedding_matrix_enc[i] = embedding_vector\n",
        "embed_enc = Embedding(len(inp_lang.word_index)+1, \n",
        "              50, \n",
        "              input_length=max_length_input,\n",
        "              trainable=True)\n",
        "\n",
        "embed_enc.build((None,))\n",
        "embed_enc.set_weights([embedding_matrix_enc])"
      ],
      "execution_count": null,
      "outputs": []
    },
    {
      "cell_type": "code",
      "metadata": {
        "id": "tJLI-KwQe8xz"
      },
      "source": [
        "embedding_matrix_dec = np.zeros((len(targ_lang.word_index)+1, embedding_dimention))\n",
        "for word, i in targ_lang.word_index.items():\n",
        "    embedding_vector = embeddings_index.get(word)\n",
        "    if embedding_vector is not None:\n",
        "      # words not found in embedding index will be all-zeros.\n",
        "        embedding_matrix_dec[i] = embedding_vector\n",
        "embed_dec = Embedding(len(targ_lang.word_index)+1, \n",
        "              50, \n",
        "              \n",
        "              input_length=max_length_output,\n",
        "              trainable=True)\n",
        "\n",
        "embed_dec.build((None,))\n",
        "embed_dec.set_weights([embedding_matrix_dec])"
      ],
      "execution_count": null,
      "outputs": []
    },
    {
      "cell_type": "code",
      "metadata": {
        "id": "nZ2rI24i3jFg"
      },
      "source": [
        "class Encoder(tf.keras.Model):\n",
        "  def __init__(self, vocab_size, embedding_layer, enc_units, batch_sz):\n",
        "    super(Encoder, self).__init__()\n",
        "    self.batch_sz = batch_sz\n",
        "    self.enc_units = enc_units\n",
        "    # self.embedding = tf.keras.layers.Embedding(vocab_size, embedding_dim)\n",
        "    self.embedding = embedding_layer\n",
        "    ##-------- LSTM layer in Encoder ------- ##\n",
        "    self.lstm_layer = tf.keras.layers.Bidirectional(tf.keras.layers.LSTM(self.enc_units,\n",
        "                                   return_sequences=True,\n",
        "                                   return_state=True,\n",
        "                                   recurrent_initializer='glorot_uniform'\n",
        "                                   ))\n",
        "    \n",
        "\n",
        "\n",
        "  def call(self, x, hidden):\n",
        "    x = self.embedding(x)\n",
        "    output, fh, fc, bh, bc = self.lstm_layer(x, initial_state = hidden)\n",
        "\n",
        "    h = Concatenate()([fh, bh])\n",
        "    c = Concatenate()([fc, bc])\n",
        "    return output, h, c\n",
        "\n",
        "  def initialize_hidden_state(self):\n",
        "    return [tf.zeros((self.batch_sz, self.enc_units)) for i in range(4)] "
      ],
      "execution_count": null,
      "outputs": []
    },
    {
      "cell_type": "code",
      "metadata": {
        "colab": {
          "base_uri": "https://localhost:8080/"
        },
        "id": "60gSVh05Jl6l",
        "outputId": "d29fdd0f-80a3-4ad4-90ac-df56f9a07f2f"
      },
      "source": [
        "## Test Encoder Stack\n",
        "\n",
        "encoder = Encoder(vocab_inp_size, embed_enc, units, BATCH_SIZE)\n",
        "\n",
        "\n",
        "# sample input\n",
        "sample_hidden = encoder.initialize_hidden_state()\n",
        "sample_output, sample_h, sample_c = encoder(example_input_batch, sample_hidden)\n",
        "print ('Encoder output shape: (batch size, sequence length, units) {}'.format(sample_output.shape))\n",
        "print ('Encoder h vecotr shape: (batch size, units) {}'.format(sample_h.shape))\n",
        "print ('Encoder c vector shape: (batch size, units) {}'.format(sample_c.shape))"
      ],
      "execution_count": null,
      "outputs": [
        {
          "output_type": "stream",
          "text": [
            "Encoder output shape: (batch size, sequence length, units) (100, 12, 2048)\n",
            "Encoder h vecotr shape: (batch size, units) (100, 2048)\n",
            "Encoder c vector shape: (batch size, units) (100, 2048)\n"
          ],
          "name": "stdout"
        }
      ]
    },
    {
      "cell_type": "code",
      "metadata": {
        "id": "yJ_B3mhW3jFk"
      },
      "source": [
        "class Decoder(tf.keras.Model):\n",
        "  def __init__(self, vocab_size, embedding_layer, dec_units, batch_sz, attention_type='luong'):\n",
        "    super(Decoder, self).__init__()\n",
        "    self.batch_sz = batch_sz\n",
        "    self.dec_units = dec_units\n",
        "    self.attention_type = attention_type\n",
        "    \n",
        "    # Embedding Layer\n",
        "    # self.embedding = tf.keras.layers.Embedding(vocab_size, embedding_dim)\n",
        "    self.embedding = embedding_layer\n",
        "    \n",
        "    #Final Dense layer on which softmax will be applied\n",
        "    self.fc = tf.keras.layers.Dense(vocab_size)\n",
        "\n",
        "    # Define the fundamental cell for decoder recurrent structure\n",
        "    self.decoder_rnn_cell = tf.keras.layers.LSTMCell(self.dec_units)\n",
        "   \n",
        "\n",
        "\n",
        "    # Sampler\n",
        "    # self.sampler = tfa.seq2seq.sampler.TrainingSampler()\n",
        "    self.sampler = tfa.seq2seq.sampler.ScheduledEmbeddingTrainingSampler(sampling_probability=0.1, embedding_fn=self.embedding) ###\n",
        "\n",
        "    # Create attention mechanism with memory = None\n",
        "    self.attention_mechanism = self.build_attention_mechanism(self.dec_units, \n",
        "                                                              None, self.batch_sz*[max_length_input], self.attention_type)\n",
        "\n",
        "    # Wrap attention mechanism with the fundamental rnn cell of decoder\n",
        "    self.rnn_cell = self.build_rnn_cell(batch_sz)\n",
        "\n",
        "    # Define the decoder with respect to fundamental rnn cell\n",
        "    self.decoder = tfa.seq2seq.BasicDecoder(self.rnn_cell, sampler=self.sampler, output_layer=self.fc)\n",
        "\n",
        "    \n",
        "  def build_rnn_cell(self, batch_sz):\n",
        "    rnn_cell = tfa.seq2seq.AttentionWrapper(self.decoder_rnn_cell, \n",
        "                                  self.attention_mechanism, attention_layer_size=self.dec_units)\n",
        "    return rnn_cell\n",
        "\n",
        "  def build_attention_mechanism(self, dec_units, memory, memory_sequence_length, attention_type='luong'):\n",
        "    # ------------- #\n",
        "    # typ: Which sort of attention (Bahdanau, Luong)\n",
        "    # dec_units: final dimension of attention outputs \n",
        "    # memory: encoder hidden states of shape (batch_size, max_length_input, enc_units)\n",
        "    # memory_sequence_length: 1d array of shape (batch_size) with every element set to max_length_input (for masking purpose)\n",
        "\n",
        "    if(attention_type=='bahdanau'):\n",
        "      return tfa.seq2seq.BahdanauAttention(units=dec_units, memory=memory, memory_sequence_length=memory_sequence_length)\n",
        "    else:\n",
        "      return tfa.seq2seq.LuongAttention(units=dec_units, memory=memory, memory_sequence_length=memory_sequence_length)\n",
        "\n",
        "  def get_attention_weights(self):\n",
        "    w = self.rnn_cell.weights\n",
        "    return w\n",
        "  def build_initial_state(self, batch_sz, encoder_state, Dtype):\n",
        "    decoder_initial_state = self.rnn_cell.get_initial_state(batch_size=batch_sz, dtype=Dtype)\n",
        "    decoder_initial_state = decoder_initial_state.clone(cell_state=encoder_state)\n",
        "    return decoder_initial_state\n",
        "\n",
        "\n",
        "  def call(self, inputs, initial_state):\n",
        "    x = self.embedding(inputs)\n",
        "    outputs, _, _ = self.decoder(x, initial_state=initial_state, sequence_length=self.batch_sz*[max_length_output-1])\n",
        "    \n",
        "    return outputs"
      ],
      "execution_count": null,
      "outputs": []
    },
    {
      "cell_type": "code",
      "metadata": {
        "colab": {
          "base_uri": "https://localhost:8080/"
        },
        "id": "DaiO0Z6_Ml1c",
        "outputId": "5db4ea8a-e226-48d0-de0c-02139e92130e"
      },
      "source": [
        "# Test decoder stack\n",
        "\n",
        "decoder = Decoder(vocab_tar_size, embed_dec, units*2, BATCH_SIZE, 'luong')\n",
        "sample_x = tf.random.uniform((BATCH_SIZE, max_length_output))\n",
        "decoder.attention_mechanism.setup_memory(sample_output)\n",
        "initial_state = decoder.build_initial_state(BATCH_SIZE, [sample_h, sample_c], tf.float32)\n",
        "\n",
        "\n",
        "sample_decoder_outputs = decoder(sample_x, initial_state)\n",
        "\n",
        "print(\"Decoder Outputs Shape: \", sample_decoder_outputs.rnn_output.shape)\n"
      ],
      "execution_count": null,
      "outputs": [
        {
          "output_type": "stream",
          "text": [
            "Decoder Outputs Shape:  (100, 11, 6189)\n"
          ],
          "name": "stdout"
        }
      ]
    },
    {
      "cell_type": "markdown",
      "metadata": {
        "id": "fuPv_jCPVMb1"
      },
      "source": [
        "##Training"
      ]
    },
    {
      "cell_type": "code",
      "metadata": {
        "id": "WmTHr5iV3jFr"
      },
      "source": [
        "def loss_function(real, pred):\n",
        "  # real shape = (BATCH_SIZE, max_length_output)\n",
        "  # pred shape = (BATCH_SIZE, max_length_output, tar_vocab_size )\n",
        "  cross_entropy = tf.keras.losses.SparseCategoricalCrossentropy(from_logits=True, reduction='none')\n",
        "  loss = cross_entropy(y_true=real, y_pred=pred)\n",
        "  mask = tf.logical_not(tf.math.equal(real,0))   #output 0 for y=0 else output 1\n",
        "  mask = tf.cast(mask, dtype=loss.dtype)  \n",
        "  loss = mask* loss\n",
        "  loss = tf.reduce_mean(loss)\n",
        "  return loss  "
      ],
      "execution_count": null,
      "outputs": []
    },
    {
      "cell_type": "code",
      "metadata": {
        "id": "bmC3hRycTtLZ"
      },
      "source": [
        "from keras import backend as K\n",
        "def accuracy_function(real, pred):\n",
        "  y_pred = pred\n",
        "  y_true = real\n",
        "  pred_values = K.cast(K.argmax(y_pred, axis=-1), dtype='int32')\n",
        "  correct = K.cast(K.equal(y_true, pred_values), dtype='float32')\n",
        "\n",
        "  mask = K.cast(K.greater(y_true, 0), dtype='float32')\n",
        "  n_correct = K.sum(mask * correct)\n",
        "  n_total = K.sum(mask)\n",
        "  accuracy = n_correct/n_total\n",
        "  accuracy = tf.reduce_mean(accuracy)\n",
        "  return accuracy"
      ],
      "execution_count": null,
      "outputs": []
    },
    {
      "cell_type": "code",
      "metadata": {
        "id": "Xg1aLKI5hnd5"
      },
      "source": [
        "optimizer = tf.keras.optimizers.Adam(learning_rate=0.001)"
      ],
      "execution_count": null,
      "outputs": []
    },
    {
      "cell_type": "code",
      "metadata": {
        "id": "xkKIIKFZa-Fq",
        "colab": {
          "base_uri": "https://localhost:8080/"
        },
        "outputId": "2a0badf7-70ff-4b5c-edb9-f87343e5543c"
      },
      "source": [
        "!rm -r /content/training_checkpoints/"
      ],
      "execution_count": null,
      "outputs": [
        {
          "output_type": "stream",
          "text": [
            "rm: cannot remove '/content/training_checkpoints/': No such file or directory\n"
          ],
          "name": "stdout"
        }
      ]
    },
    {
      "cell_type": "code",
      "metadata": {
        "id": "Zj8bXQTgNwrF"
      },
      "source": [
        "checkpoint_dir = './training_checkpoints'\n",
        "checkpoint_prefix = os.path.join(checkpoint_dir, \"ckpt\")\n",
        "checkpoint = tf.train.Checkpoint(optimizer=optimizer,\n",
        "                                 encoder=encoder,\n",
        "                                 decoder=decoder)"
      ],
      "execution_count": null,
      "outputs": []
    },
    {
      "cell_type": "code",
      "metadata": {
        "id": "sC9ArXSsVfqn"
      },
      "source": [
        "@tf.function\n",
        "def train_step(inp, targ, enc_hidden):\n",
        "  loss = 0\n",
        "  with tf.GradientTape() as tape:\n",
        "    enc_output, enc_h, enc_c = encoder(inp, enc_hidden)\n",
        "\n",
        "\n",
        "    dec_input = targ[ : , :-1 ] # Ignore <end> token\n",
        "    real = targ[ : , 1: ]         # ignore <start> token\n",
        "\n",
        "    decoder.attention_mechanism.setup_memory(enc_output)\n",
        "\n",
        "    decoder_initial_state = decoder.build_initial_state(BATCH_SIZE, [enc_h, enc_c], tf.float32)\n",
        "    pred= decoder(dec_input, decoder_initial_state)\n",
        "    logits = pred.rnn_output\n",
        "    loss = loss_function(real, logits)\n",
        "    accuracy = accuracy_function(real, logits)\n",
        "\n",
        "  variables = encoder.trainable_variables + decoder.trainable_variables\n",
        "  gradients = tape.gradient(loss, variables)\n",
        "  optimizer.apply_gradients(zip(gradients, variables))\n",
        "\n",
        "  return loss, accuracy"
      ],
      "execution_count": null,
      "outputs": []
    },
    {
      "cell_type": "code",
      "metadata": {
        "id": "shORtigpAhXp"
      },
      "source": [
        "@tf.function\n",
        "def val_step(inp, targ, enc_hidden):\n",
        "  loss = 0\n",
        "\n",
        "  with tf.GradientTape() as tape:\n",
        "    enc_output, enc_h, enc_c = encoder(inp, enc_hidden)\n",
        "\n",
        "\n",
        "    dec_input = targ[ : , :-1 ] # Ignore <end> token\n",
        "    real = targ[ : , 1: ]         # ignore <start> token\n",
        "\n",
        "    decoder.attention_mechanism.setup_memory(enc_output)\n",
        "\n",
        "    decoder_initial_state = decoder.build_initial_state(BATCH_SIZE, [enc_h, enc_c], tf.float32)\n",
        "    pred= decoder(dec_input, decoder_initial_state)\n",
        "    logits = pred.rnn_output\n",
        "    loss = loss_function(real, logits)\n",
        "    accuracy = accuracy_function(real, logits)\n",
        "\n",
        "  return loss, accuracy"
      ],
      "execution_count": null,
      "outputs": []
    },
    {
      "cell_type": "code",
      "metadata": {
        "id": "3H5j98oboMfI"
      },
      "source": [
        "run = 0"
      ],
      "execution_count": null,
      "outputs": []
    },
    {
      "cell_type": "code",
      "metadata": {
        "id": "Xw7B1JBiUdMI"
      },
      "source": [
        "import warnings\n",
        "warnings.filterwarnings('ignore')"
      ],
      "execution_count": null,
      "outputs": []
    },
    {
      "cell_type": "code",
      "metadata": {
        "id": "ddefjBMa3jF0",
        "colab": {
          "base_uri": "https://localhost:8080/"
        },
        "outputId": "42596a13-aebb-4c5e-9686-8f1c29e4c03e"
      },
      "source": [
        "EPOCHS = 200\n",
        "train_loss_vec = []\n",
        "train_accuracy_vec = []\n",
        "val_loss_vec = []\n",
        "val_accuracy_vec = []\n",
        "time_vec = []\n",
        "run += 1\n",
        "print('---TRAINING PHASE---\\n')\n",
        "print('MODEL: UNITS {} EPOCHS {} RUN {}'.format(units, EPOCHS, run))\n",
        "start_training = time.time()\n",
        "with tf.device('/gpu:0'):\n",
        "  for epoch in range(EPOCHS):\n",
        "    start = time.time()\n",
        "\n",
        "    enc_hidden = encoder.initialize_hidden_state()\n",
        "    total_train_loss = 0\n",
        "    total_train_accuracy = 0\n",
        "    total_val_loss = 0\n",
        "    total_val_accuracy = 0\n",
        "    \n",
        "\n",
        "    for (batch, (inp, targ)) in enumerate(train_dataset.take(steps_per_epoch)):\n",
        "      train_loss, train_accuracy = train_step(inp, targ, enc_hidden)\n",
        "      total_train_loss += train_loss\n",
        "      total_train_accuracy += train_accuracy\n",
        "\n",
        "\n",
        "    train_loss_vec.append('{:.4f}'.format(total_train_loss / steps_per_epoch))\n",
        "    train_accuracy_vec.append('{:.4f}'.format(total_train_accuracy / steps_per_epoch))\n",
        "      \n",
        "    for (batch, (inp, targ)) in enumerate(val_dataset.take(steps_per_epoch)):\n",
        "      val_loss, val_accuracy = val_step(inp, targ, enc_hidden)\n",
        "      total_val_loss += val_loss\n",
        "      total_val_accuracy += val_accuracy\n",
        "\n",
        "      \n",
        "    val_loss_vec.append('{:.4f}'.format(total_val_loss / steps_per_epoch))\n",
        "    val_accuracy_vec.append('{:.4f}'.format(total_val_accuracy / steps_per_epoch))\n",
        "\n",
        "\n",
        "    \n",
        "    if (epoch + 1) % 20 == 0:\n",
        "      checkpoint.save(file_prefix = checkpoint_prefix)\n",
        "\n",
        "    print('Epoch: {} | Loss: {:.4f} | Accuracy: {:.4f} | Val Loss: {:.4f} | Val Accuracy: {:.4f}'.format(epoch + 1,\n",
        "                                        total_train_loss / steps_per_epoch,\n",
        "                                        total_train_accuracy / steps_per_epoch,\n",
        "                                        total_val_loss / steps_per_epoch,\n",
        "                                        total_val_accuracy / steps_per_epoch\n",
        "                                        ))\n",
        "    \n",
        "    epoch_time = time.time() - start\n",
        "    time_vec.append(epoch_time)\n",
        "    print('Time taken for epoch {} {} sec\\n'.format(epoch +1 , epoch_time))\n",
        "  total_time = time.time() - start_training\n",
        "  print('Time taken for the whole training phase is: {} sec'.format(total_time))\n",
        "\n"
      ],
      "execution_count": null,
      "outputs": [
        {
          "output_type": "stream",
          "text": [
            "---TRAINING PHASE---\n",
            "\n",
            "MODEL: UNITS 1024 EPOCHS 200 RUN 2\n",
            "Epoch: 1 | Loss: 3.3643 | Accuracy: 0.2257 | Val Loss: 0.6834 | Val Accuracy: 0.0238\n",
            "Time taken for epoch 1 22.572569370269775 sec\n",
            "\n",
            "Epoch: 2 | Loss: 3.3274 | Accuracy: 0.2283 | Val Loss: 0.6770 | Val Accuracy: 0.0244\n",
            "Time taken for epoch 2 22.460930347442627 sec\n",
            "\n",
            "Epoch: 3 | Loss: 3.2998 | Accuracy: 0.2299 | Val Loss: 0.6661 | Val Accuracy: 0.0240\n",
            "Time taken for epoch 3 22.519505739212036 sec\n",
            "\n",
            "Epoch: 4 | Loss: 3.2744 | Accuracy: 0.2338 | Val Loss: 0.6590 | Val Accuracy: 0.0247\n",
            "Time taken for epoch 4 22.424427270889282 sec\n",
            "\n",
            "Epoch: 5 | Loss: 3.2470 | Accuracy: 0.2347 | Val Loss: 0.6462 | Val Accuracy: 0.0251\n",
            "Time taken for epoch 5 22.422178983688354 sec\n",
            "\n",
            "Epoch: 6 | Loss: 3.2216 | Accuracy: 0.2356 | Val Loss: 0.6375 | Val Accuracy: 0.0244\n",
            "Time taken for epoch 6 22.38745141029358 sec\n",
            "\n",
            "Epoch: 7 | Loss: 3.1849 | Accuracy: 0.2367 | Val Loss: 0.6254 | Val Accuracy: 0.0247\n",
            "Time taken for epoch 7 22.408942699432373 sec\n",
            "\n",
            "Epoch: 8 | Loss: 3.1493 | Accuracy: 0.2399 | Val Loss: 0.6229 | Val Accuracy: 0.0253\n",
            "Time taken for epoch 8 22.47076725959778 sec\n",
            "\n",
            "Epoch: 9 | Loss: 3.1274 | Accuracy: 0.2407 | Val Loss: 0.6093 | Val Accuracy: 0.0252\n",
            "Time taken for epoch 9 22.423908948898315 sec\n",
            "\n",
            "Epoch: 10 | Loss: 3.1094 | Accuracy: 0.2432 | Val Loss: 0.6043 | Val Accuracy: 0.0252\n",
            "Time taken for epoch 10 22.43415594100952 sec\n",
            "\n",
            "Epoch: 11 | Loss: 3.0803 | Accuracy: 0.2446 | Val Loss: 0.5926 | Val Accuracy: 0.0248\n",
            "Time taken for epoch 11 22.33164620399475 sec\n",
            "\n",
            "Epoch: 12 | Loss: 3.0482 | Accuracy: 0.2463 | Val Loss: 0.5833 | Val Accuracy: 0.0233\n",
            "Time taken for epoch 12 22.427587270736694 sec\n",
            "\n",
            "Epoch: 13 | Loss: 11.5063 | Accuracy: 0.2070 | Val Loss: 3.3760 | Val Accuracy: 0.0084\n",
            "Time taken for epoch 13 22.327823162078857 sec\n",
            "\n",
            "Epoch: 14 | Loss: 10.9240 | Accuracy: 0.1044 | Val Loss: 0.8075 | Val Accuracy: 0.0163\n",
            "Time taken for epoch 14 22.441642999649048 sec\n",
            "\n",
            "Epoch: 15 | Loss: 4.6250 | Accuracy: 0.1672 | Val Loss: 0.6054 | Val Accuracy: 0.0204\n",
            "Time taken for epoch 15 22.30826473236084 sec\n",
            "\n",
            "Epoch: 16 | Loss: 3.8748 | Accuracy: 0.1923 | Val Loss: 0.5425 | Val Accuracy: 0.0221\n",
            "Time taken for epoch 16 22.32088589668274 sec\n",
            "\n",
            "Epoch: 17 | Loss: 3.5680 | Accuracy: 0.2038 | Val Loss: 0.5155 | Val Accuracy: 0.0229\n",
            "Time taken for epoch 17 22.35155940055847 sec\n",
            "\n",
            "Epoch: 18 | Loss: 3.3991 | Accuracy: 0.2141 | Val Loss: 0.4941 | Val Accuracy: 0.0238\n",
            "Time taken for epoch 18 22.425333738327026 sec\n",
            "\n",
            "Epoch: 19 | Loss: 3.2877 | Accuracy: 0.2222 | Val Loss: 0.4813 | Val Accuracy: 0.0245\n",
            "Time taken for epoch 19 22.35304594039917 sec\n",
            "\n",
            "Epoch: 20 | Loss: 3.1985 | Accuracy: 0.2288 | Val Loss: 0.4696 | Val Accuracy: 0.0242\n",
            "Time taken for epoch 20 25.19715404510498 sec\n",
            "\n",
            "Epoch: 21 | Loss: 3.1353 | Accuracy: 0.2348 | Val Loss: 0.4614 | Val Accuracy: 0.0255\n",
            "Time taken for epoch 21 22.315096855163574 sec\n",
            "\n",
            "Epoch: 22 | Loss: 3.0749 | Accuracy: 0.2381 | Val Loss: 0.4534 | Val Accuracy: 0.0255\n",
            "Time taken for epoch 22 22.32250142097473 sec\n",
            "\n",
            "Epoch: 23 | Loss: 3.0314 | Accuracy: 0.2402 | Val Loss: 0.4480 | Val Accuracy: 0.0255\n",
            "Time taken for epoch 23 22.297937870025635 sec\n",
            "\n",
            "Epoch: 24 | Loss: 2.9942 | Accuracy: 0.2430 | Val Loss: 0.4417 | Val Accuracy: 0.0259\n",
            "Time taken for epoch 24 22.30340266227722 sec\n",
            "\n",
            "Epoch: 25 | Loss: 2.9460 | Accuracy: 0.2468 | Val Loss: 0.4368 | Val Accuracy: 0.0257\n",
            "Time taken for epoch 25 22.4678475856781 sec\n",
            "\n",
            "Epoch: 26 | Loss: 2.9192 | Accuracy: 0.2471 | Val Loss: 0.4318 | Val Accuracy: 0.0261\n",
            "Time taken for epoch 26 22.49429202079773 sec\n",
            "\n",
            "Epoch: 27 | Loss: 2.8890 | Accuracy: 0.2507 | Val Loss: 0.4268 | Val Accuracy: 0.0268\n",
            "Time taken for epoch 27 22.312073230743408 sec\n",
            "\n",
            "Epoch: 28 | Loss: 2.8581 | Accuracy: 0.2534 | Val Loss: 0.4243 | Val Accuracy: 0.0260\n",
            "Time taken for epoch 28 22.309325456619263 sec\n",
            "\n",
            "Epoch: 29 | Loss: 2.8292 | Accuracy: 0.2542 | Val Loss: 0.4212 | Val Accuracy: 0.0268\n",
            "Time taken for epoch 29 22.261804819107056 sec\n",
            "\n",
            "Epoch: 30 | Loss: 2.8010 | Accuracy: 0.2577 | Val Loss: 0.4207 | Val Accuracy: 0.0257\n",
            "Time taken for epoch 30 22.34612727165222 sec\n",
            "\n",
            "Epoch: 31 | Loss: 2.7686 | Accuracy: 0.2605 | Val Loss: 0.4156 | Val Accuracy: 0.0264\n",
            "Time taken for epoch 31 22.28877353668213 sec\n",
            "\n",
            "Epoch: 32 | Loss: 2.8333 | Accuracy: 0.2543 | Val Loss: 0.4187 | Val Accuracy: 0.0269\n",
            "Time taken for epoch 32 22.25910210609436 sec\n",
            "\n",
            "Epoch: 33 | Loss: 2.7414 | Accuracy: 0.2620 | Val Loss: 0.4156 | Val Accuracy: 0.0265\n",
            "Time taken for epoch 33 22.234467267990112 sec\n",
            "\n",
            "Epoch: 34 | Loss: 2.7083 | Accuracy: 0.2652 | Val Loss: 0.4131 | Val Accuracy: 0.0267\n",
            "Time taken for epoch 34 22.32336163520813 sec\n",
            "\n",
            "Epoch: 35 | Loss: 2.6784 | Accuracy: 0.2692 | Val Loss: 0.4127 | Val Accuracy: 0.0264\n",
            "Time taken for epoch 35 22.325698614120483 sec\n",
            "\n",
            "Epoch: 36 | Loss: 2.6606 | Accuracy: 0.2705 | Val Loss: 0.4100 | Val Accuracy: 0.0268\n",
            "Time taken for epoch 36 22.378639221191406 sec\n",
            "\n",
            "Epoch: 37 | Loss: 2.6311 | Accuracy: 0.2747 | Val Loss: 0.4101 | Val Accuracy: 0.0265\n",
            "Time taken for epoch 37 22.284021615982056 sec\n",
            "\n",
            "Epoch: 38 | Loss: 2.6099 | Accuracy: 0.2771 | Val Loss: 0.4118 | Val Accuracy: 0.0275\n",
            "Time taken for epoch 38 22.270944118499756 sec\n",
            "\n",
            "Epoch: 39 | Loss: 2.6436 | Accuracy: 0.2734 | Val Loss: 0.4167 | Val Accuracy: 0.0265\n",
            "Time taken for epoch 39 22.31627130508423 sec\n",
            "\n",
            "Epoch: 40 | Loss: 2.6407 | Accuracy: 0.2726 | Val Loss: 0.4141 | Val Accuracy: 0.0266\n",
            "Time taken for epoch 40 25.196335554122925 sec\n",
            "\n",
            "Epoch: 41 | Loss: 2.5522 | Accuracy: 0.2833 | Val Loss: 0.4092 | Val Accuracy: 0.0268\n",
            "Time taken for epoch 41 22.387985706329346 sec\n",
            "\n",
            "Epoch: 42 | Loss: 2.5132 | Accuracy: 0.2884 | Val Loss: 0.4086 | Val Accuracy: 0.0269\n",
            "Time taken for epoch 42 22.318220376968384 sec\n",
            "\n",
            "Epoch: 43 | Loss: 2.4840 | Accuracy: 0.2902 | Val Loss: 0.4121 | Val Accuracy: 0.0263\n",
            "Time taken for epoch 43 22.368170499801636 sec\n",
            "\n",
            "Epoch: 44 | Loss: 2.4562 | Accuracy: 0.2950 | Val Loss: 0.4102 | Val Accuracy: 0.0270\n",
            "Time taken for epoch 44 22.33478331565857 sec\n",
            "\n",
            "Epoch: 45 | Loss: 2.4409 | Accuracy: 0.2974 | Val Loss: 0.4120 | Val Accuracy: 0.0268\n",
            "Time taken for epoch 45 22.32673931121826 sec\n",
            "\n",
            "Epoch: 46 | Loss: 2.4181 | Accuracy: 0.2996 | Val Loss: 0.4122 | Val Accuracy: 0.0261\n",
            "Time taken for epoch 46 22.375452756881714 sec\n",
            "\n",
            "Epoch: 47 | Loss: 2.3800 | Accuracy: 0.3060 | Val Loss: 0.4138 | Val Accuracy: 0.0263\n",
            "Time taken for epoch 47 22.259279251098633 sec\n",
            "\n",
            "Epoch: 48 | Loss: 2.3390 | Accuracy: 0.3092 | Val Loss: 0.4130 | Val Accuracy: 0.0270\n",
            "Time taken for epoch 48 22.311259746551514 sec\n",
            "\n",
            "Epoch: 49 | Loss: 2.3187 | Accuracy: 0.3125 | Val Loss: 0.4217 | Val Accuracy: 0.0259\n",
            "Time taken for epoch 49 22.29368257522583 sec\n",
            "\n",
            "Epoch: 50 | Loss: 87.0120 | Accuracy: 0.2145 | Val Loss: 34.1946 | Val Accuracy: 0.0002\n",
            "Time taken for epoch 50 22.364654541015625 sec\n",
            "\n",
            "Epoch: 51 | Loss: 120.2478 | Accuracy: 0.0392 | Val Loss: 2.9038 | Val Accuracy: 0.0053\n",
            "Time taken for epoch 51 22.30673909187317 sec\n",
            "\n",
            "Epoch: 52 | Loss: 13.9268 | Accuracy: 0.0649 | Val Loss: 1.2960 | Val Accuracy: 0.0093\n",
            "Time taken for epoch 52 22.32647728919983 sec\n",
            "\n",
            "Epoch: 53 | Loss: 7.8664 | Accuracy: 0.0976 | Val Loss: 0.9902 | Val Accuracy: 0.0104\n",
            "Time taken for epoch 53 22.36866307258606 sec\n",
            "\n",
            "Epoch: 54 | Loss: 6.2937 | Accuracy: 0.1181 | Val Loss: 0.8203 | Val Accuracy: 0.0139\n",
            "Time taken for epoch 54 22.388437747955322 sec\n",
            "\n",
            "Epoch: 55 | Loss: 5.4735 | Accuracy: 0.1330 | Val Loss: 0.7458 | Val Accuracy: 0.0151\n",
            "Time taken for epoch 55 22.35949206352234 sec\n",
            "\n",
            "Epoch: 56 | Loss: 4.9058 | Accuracy: 0.1474 | Val Loss: 0.6962 | Val Accuracy: 0.0177\n",
            "Time taken for epoch 56 22.378843784332275 sec\n",
            "\n",
            "Epoch: 57 | Loss: 4.8728 | Accuracy: 0.1469 | Val Loss: 0.6906 | Val Accuracy: 0.0169\n",
            "Time taken for epoch 57 22.356740474700928 sec\n",
            "\n",
            "Epoch: 58 | Loss: 4.3873 | Accuracy: 0.1649 | Val Loss: 0.6456 | Val Accuracy: 0.0188\n",
            "Time taken for epoch 58 22.395420789718628 sec\n",
            "\n",
            "Epoch: 59 | Loss: 4.1445 | Accuracy: 0.1748 | Val Loss: 0.6239 | Val Accuracy: 0.0193\n",
            "Time taken for epoch 59 22.354538679122925 sec\n",
            "\n",
            "Epoch: 60 | Loss: 3.9724 | Accuracy: 0.1814 | Val Loss: 0.6035 | Val Accuracy: 0.0201\n",
            "Time taken for epoch 60 25.228946924209595 sec\n",
            "\n",
            "Epoch: 61 | Loss: 3.8233 | Accuracy: 0.1888 | Val Loss: 0.5868 | Val Accuracy: 0.0212\n",
            "Time taken for epoch 61 22.434759855270386 sec\n",
            "\n",
            "Epoch: 62 | Loss: 3.9575 | Accuracy: 0.1812 | Val Loss: 0.5839 | Val Accuracy: 0.0211\n",
            "Time taken for epoch 62 22.321003198623657 sec\n",
            "\n",
            "Epoch: 63 | Loss: 3.6775 | Accuracy: 0.1960 | Val Loss: 0.5717 | Val Accuracy: 0.0210\n",
            "Time taken for epoch 63 22.30661368370056 sec\n",
            "\n",
            "Epoch: 64 | Loss: 3.5835 | Accuracy: 0.1988 | Val Loss: 0.5539 | Val Accuracy: 0.0220\n",
            "Time taken for epoch 64 22.39573335647583 sec\n",
            "\n",
            "Epoch: 65 | Loss: 3.4821 | Accuracy: 0.2036 | Val Loss: 0.5445 | Val Accuracy: 0.0218\n",
            "Time taken for epoch 65 22.335363388061523 sec\n",
            "\n",
            "Epoch: 66 | Loss: 3.3913 | Accuracy: 0.2098 | Val Loss: 0.5335 | Val Accuracy: 0.0218\n",
            "Time taken for epoch 66 22.357359647750854 sec\n",
            "\n",
            "Epoch: 67 | Loss: 3.3485 | Accuracy: 0.2113 | Val Loss: 0.5273 | Val Accuracy: 0.0219\n",
            "Time taken for epoch 67 22.314040184020996 sec\n",
            "\n",
            "Epoch: 68 | Loss: 3.2599 | Accuracy: 0.2189 | Val Loss: 0.5209 | Val Accuracy: 0.0223\n",
            "Time taken for epoch 68 22.370145559310913 sec\n",
            "\n",
            "Epoch: 69 | Loss: 3.2641 | Accuracy: 0.2171 | Val Loss: 0.5245 | Val Accuracy: 0.0219\n",
            "Time taken for epoch 69 22.26665186882019 sec\n",
            "\n",
            "Epoch: 70 | Loss: 3.2012 | Accuracy: 0.2224 | Val Loss: 0.5075 | Val Accuracy: 0.0229\n",
            "Time taken for epoch 70 22.292210578918457 sec\n",
            "\n",
            "Epoch: 71 | Loss: 3.1289 | Accuracy: 0.2276 | Val Loss: 0.5004 | Val Accuracy: 0.0229\n",
            "Time taken for epoch 71 22.360558032989502 sec\n",
            "\n",
            "Epoch: 72 | Loss: 3.0932 | Accuracy: 0.2279 | Val Loss: 0.4972 | Val Accuracy: 0.0237\n",
            "Time taken for epoch 72 22.30553102493286 sec\n",
            "\n",
            "Epoch: 73 | Loss: 3.0740 | Accuracy: 0.2292 | Val Loss: 0.4938 | Val Accuracy: 0.0237\n",
            "Time taken for epoch 73 22.280416250228882 sec\n",
            "\n",
            "Epoch: 74 | Loss: 79.7291 | Accuracy: 0.1175 | Val Loss: 8.6323 | Val Accuracy: 0.0060\n",
            "Time taken for epoch 74 22.25467085838318 sec\n",
            "\n",
            "Epoch: 75 | Loss: 25.4921 | Accuracy: 0.0781 | Val Loss: 1.4836 | Val Accuracy: 0.0110\n",
            "Time taken for epoch 75 22.38138771057129 sec\n",
            "\n",
            "Epoch: 76 | Loss: 16.0359 | Accuracy: 0.0945 | Val Loss: 3.4445 | Val Accuracy: 0.0062\n",
            "Time taken for epoch 76 22.4286847114563 sec\n",
            "\n",
            "Epoch: 77 | Loss: 17.3027 | Accuracy: 0.0843 | Val Loss: 1.9933 | Val Accuracy: 0.0095\n",
            "Time taken for epoch 77 22.397852659225464 sec\n",
            "\n",
            "Epoch: 78 | Loss: 9.8733 | Accuracy: 0.1075 | Val Loss: 1.5482 | Val Accuracy: 0.0130\n",
            "Time taken for epoch 78 22.35936164855957 sec\n",
            "\n",
            "Epoch: 79 | Loss: 7.4413 | Accuracy: 0.1227 | Val Loss: 1.3288 | Val Accuracy: 0.0138\n",
            "Time taken for epoch 79 22.34183931350708 sec\n",
            "\n",
            "Epoch: 80 | Loss: 6.0397 | Accuracy: 0.1345 | Val Loss: 1.1569 | Val Accuracy: 0.0145\n",
            "Time taken for epoch 80 25.316668033599854 sec\n",
            "\n",
            "Epoch: 81 | Loss: 5.1613 | Accuracy: 0.1480 | Val Loss: 1.0362 | Val Accuracy: 0.0158\n",
            "Time taken for epoch 81 22.462934017181396 sec\n",
            "\n",
            "Epoch: 82 | Loss: 4.5824 | Accuracy: 0.1564 | Val Loss: 0.9534 | Val Accuracy: 0.0174\n",
            "Time taken for epoch 82 22.49033784866333 sec\n",
            "\n",
            "Epoch: 83 | Loss: 4.2010 | Accuracy: 0.1687 | Val Loss: 0.8997 | Val Accuracy: 0.0179\n",
            "Time taken for epoch 83 22.367351770401 sec\n",
            "\n",
            "Epoch: 84 | Loss: 3.9592 | Accuracy: 0.1762 | Val Loss: 0.8498 | Val Accuracy: 0.0196\n",
            "Time taken for epoch 84 22.342984199523926 sec\n",
            "\n",
            "Epoch: 85 | Loss: 3.7942 | Accuracy: 0.1829 | Val Loss: 0.8142 | Val Accuracy: 0.0197\n",
            "Time taken for epoch 85 22.38094449043274 sec\n",
            "\n",
            "Epoch: 86 | Loss: 3.6721 | Accuracy: 0.1865 | Val Loss: 0.7911 | Val Accuracy: 0.0190\n",
            "Time taken for epoch 86 22.33518671989441 sec\n",
            "\n",
            "Epoch: 87 | Loss: 3.5468 | Accuracy: 0.1919 | Val Loss: 0.7640 | Val Accuracy: 0.0211\n",
            "Time taken for epoch 87 22.376036643981934 sec\n",
            "\n",
            "Epoch: 88 | Loss: 3.5069 | Accuracy: 0.1928 | Val Loss: 0.7489 | Val Accuracy: 0.0208\n",
            "Time taken for epoch 88 22.363123893737793 sec\n",
            "\n",
            "Epoch: 89 | Loss: 3.4143 | Accuracy: 0.1990 | Val Loss: 0.7222 | Val Accuracy: 0.0213\n",
            "Time taken for epoch 89 22.431063890457153 sec\n",
            "\n",
            "Epoch: 90 | Loss: 3.3493 | Accuracy: 0.2017 | Val Loss: 0.7021 | Val Accuracy: 0.0208\n",
            "Time taken for epoch 90 22.440894842147827 sec\n",
            "\n",
            "Epoch: 91 | Loss: 3.2660 | Accuracy: 0.2065 | Val Loss: 0.6850 | Val Accuracy: 0.0223\n",
            "Time taken for epoch 91 22.371410369873047 sec\n",
            "\n",
            "Epoch: 92 | Loss: 3.2092 | Accuracy: 0.2112 | Val Loss: 0.6635 | Val Accuracy: 0.0218\n",
            "Time taken for epoch 92 22.401930332183838 sec\n",
            "\n",
            "Epoch: 93 | Loss: 3.2053 | Accuracy: 0.2119 | Val Loss: 0.6617 | Val Accuracy: 0.0220\n",
            "Time taken for epoch 93 22.36674737930298 sec\n",
            "\n",
            "Epoch: 94 | Loss: 3.1405 | Accuracy: 0.2149 | Val Loss: 0.6373 | Val Accuracy: 0.0230\n",
            "Time taken for epoch 94 22.396321058273315 sec\n",
            "\n",
            "Epoch: 95 | Loss: 103.4717 | Accuracy: 0.0532 | Val Loss: 6.6274 | Val Accuracy: 0.0019\n",
            "Time taken for epoch 95 22.335362434387207 sec\n",
            "\n",
            "Epoch: 96 | Loss: 31.8112 | Accuracy: 0.0597 | Val Loss: 2.5708 | Val Accuracy: 0.0094\n",
            "Time taken for epoch 96 22.264628410339355 sec\n",
            "\n",
            "Epoch: 97 | Loss: 13.1165 | Accuracy: 0.0800 | Val Loss: 1.7520 | Val Accuracy: 0.0083\n",
            "Time taken for epoch 97 22.31709122657776 sec\n",
            "\n",
            "Epoch: 98 | Loss: 8.7240 | Accuracy: 0.0938 | Val Loss: 1.3709 | Val Accuracy: 0.0115\n",
            "Time taken for epoch 98 22.357542514801025 sec\n",
            "\n",
            "Epoch: 99 | Loss: 6.6356 | Accuracy: 0.1229 | Val Loss: 1.1223 | Val Accuracy: 0.0150\n",
            "Time taken for epoch 99 22.388693809509277 sec\n",
            "\n",
            "Epoch: 100 | Loss: 5.4748 | Accuracy: 0.1442 | Val Loss: 3.2677 | Val Accuracy: 0.0030\n",
            "Time taken for epoch 100 25.181915044784546 sec\n",
            "\n",
            "Epoch: 101 | Loss: 46.3955 | Accuracy: 0.0509 | Val Loss: 3.9237 | Val Accuracy: 0.0070\n",
            "Time taken for epoch 101 22.375778913497925 sec\n",
            "\n",
            "Epoch: 102 | Loss: 16.9647 | Accuracy: 0.1013 | Val Loss: 2.1350 | Val Accuracy: 0.0121\n",
            "Time taken for epoch 102 22.311219215393066 sec\n",
            "\n",
            "Epoch: 103 | Loss: 9.6378 | Accuracy: 0.1341 | Val Loss: 1.6761 | Val Accuracy: 0.0131\n",
            "Time taken for epoch 103 22.31882882118225 sec\n",
            "\n",
            "Epoch: 104 | Loss: 7.1028 | Accuracy: 0.1498 | Val Loss: 1.3482 | Val Accuracy: 0.0174\n",
            "Time taken for epoch 104 22.341151237487793 sec\n",
            "\n",
            "Epoch: 105 | Loss: 5.5647 | Accuracy: 0.1597 | Val Loss: 1.0943 | Val Accuracy: 0.0189\n",
            "Time taken for epoch 105 22.35975408554077 sec\n",
            "\n",
            "Epoch: 106 | Loss: 4.6494 | Accuracy: 0.1698 | Val Loss: 0.9650 | Val Accuracy: 0.0197\n",
            "Time taken for epoch 106 22.334001779556274 sec\n",
            "\n",
            "Epoch: 107 | Loss: 4.1738 | Accuracy: 0.1769 | Val Loss: 0.8838 | Val Accuracy: 0.0200\n",
            "Time taken for epoch 107 22.301525831222534 sec\n",
            "\n",
            "Epoch: 108 | Loss: 3.8952 | Accuracy: 0.1823 | Val Loss: 0.8259 | Val Accuracy: 0.0195\n",
            "Time taken for epoch 108 22.332256317138672 sec\n",
            "\n",
            "Epoch: 109 | Loss: 3.7093 | Accuracy: 0.1882 | Val Loss: 0.7888 | Val Accuracy: 0.0199\n",
            "Time taken for epoch 109 22.35087776184082 sec\n",
            "\n",
            "Epoch: 110 | Loss: 3.5717 | Accuracy: 0.1935 | Val Loss: 0.7548 | Val Accuracy: 0.0207\n",
            "Time taken for epoch 110 22.30940055847168 sec\n",
            "\n",
            "Epoch: 111 | Loss: 115.4779 | Accuracy: 0.0457 | Val Loss: 7.4097 | Val Accuracy: 0.0027\n",
            "Time taken for epoch 111 22.36740732192993 sec\n",
            "\n",
            "Epoch: 112 | Loss: 25.1824 | Accuracy: 0.0782 | Val Loss: 2.2402 | Val Accuracy: 0.0114\n",
            "Time taken for epoch 112 22.275986671447754 sec\n",
            "\n",
            "Epoch: 113 | Loss: 9.3056 | Accuracy: 0.1154 | Val Loss: 1.5925 | Val Accuracy: 0.0155\n",
            "Time taken for epoch 113 22.322204113006592 sec\n",
            "\n",
            "Epoch: 114 | Loss: 6.6797 | Accuracy: 0.1321 | Val Loss: 1.2781 | Val Accuracy: 0.0162\n",
            "Time taken for epoch 114 22.3365478515625 sec\n",
            "\n",
            "Epoch: 115 | Loss: 5.4350 | Accuracy: 0.1468 | Val Loss: 1.1034 | Val Accuracy: 0.0185\n",
            "Time taken for epoch 115 22.34796953201294 sec\n",
            "\n",
            "Epoch: 116 | Loss: 4.6978 | Accuracy: 0.1657 | Val Loss: 0.9992 | Val Accuracy: 0.0190\n",
            "Time taken for epoch 116 22.296036958694458 sec\n",
            "\n",
            "Epoch: 117 | Loss: 4.3295 | Accuracy: 0.1746 | Val Loss: 0.9420 | Val Accuracy: 0.0187\n",
            "Time taken for epoch 117 22.307924032211304 sec\n",
            "\n",
            "Epoch: 118 | Loss: 4.1020 | Accuracy: 0.1810 | Val Loss: 0.8843 | Val Accuracy: 0.0207\n",
            "Time taken for epoch 118 22.274982690811157 sec\n",
            "\n",
            "Epoch: 119 | Loss: 3.9135 | Accuracy: 0.1870 | Val Loss: 0.8400 | Val Accuracy: 0.0212\n",
            "Time taken for epoch 119 22.388225555419922 sec\n",
            "\n",
            "Epoch: 120 | Loss: 3.7716 | Accuracy: 0.1897 | Val Loss: 0.8034 | Val Accuracy: 0.0213\n",
            "Time taken for epoch 120 25.129615545272827 sec\n",
            "\n",
            "Epoch: 121 | Loss: 3.6756 | Accuracy: 0.1931 | Val Loss: 0.7764 | Val Accuracy: 0.0215\n",
            "Time taken for epoch 121 22.461541414260864 sec\n",
            "\n",
            "Epoch: 122 | Loss: 3.5882 | Accuracy: 0.1966 | Val Loss: 0.7512 | Val Accuracy: 0.0221\n",
            "Time taken for epoch 122 22.380295753479004 sec\n",
            "\n",
            "Epoch: 123 | Loss: 3.5237 | Accuracy: 0.1971 | Val Loss: 0.7286 | Val Accuracy: 0.0216\n",
            "Time taken for epoch 123 22.35884928703308 sec\n",
            "\n",
            "Epoch: 124 | Loss: 3.4546 | Accuracy: 0.2002 | Val Loss: 0.7058 | Val Accuracy: 0.0219\n",
            "Time taken for epoch 124 22.36783480644226 sec\n",
            "\n",
            "Epoch: 125 | Loss: 18.0625 | Accuracy: 0.1757 | Val Loss: 22.9535 | Val Accuracy: 0.0006\n",
            "Time taken for epoch 125 22.400636672973633 sec\n",
            "\n",
            "Epoch: 126 | Loss: 125.8935 | Accuracy: 0.0535 | Val Loss: 3.3943 | Val Accuracy: 0.0088\n",
            "Time taken for epoch 126 22.26491928100586 sec\n",
            "\n",
            "Epoch: 127 | Loss: 12.4513 | Accuracy: 0.1210 | Val Loss: 1.4787 | Val Accuracy: 0.0169\n",
            "Time taken for epoch 127 22.355166912078857 sec\n",
            "\n",
            "Epoch: 128 | Loss: 6.8003 | Accuracy: 0.1483 | Val Loss: 1.1787 | Val Accuracy: 0.0179\n",
            "Time taken for epoch 128 22.339351654052734 sec\n",
            "\n",
            "Epoch: 129 | Loss: 5.4163 | Accuracy: 0.1642 | Val Loss: 1.0276 | Val Accuracy: 0.0185\n",
            "Time taken for epoch 129 22.38180136680603 sec\n",
            "\n",
            "Epoch: 130 | Loss: 21.2615 | Accuracy: 0.1412 | Val Loss: 18.5444 | Val Accuracy: 0.0002\n",
            "Time taken for epoch 130 22.47063374519348 sec\n",
            "\n",
            "Epoch: 131 | Loss: 134.0047 | Accuracy: 0.0586 | Val Loss: 5.8637 | Val Accuracy: 0.0088\n",
            "Time taken for epoch 131 22.336148977279663 sec\n",
            "\n",
            "Epoch: 132 | Loss: 39.4586 | Accuracy: 0.0817 | Val Loss: 9.5291 | Val Accuracy: 0.0007\n",
            "Time taken for epoch 132 22.31589102745056 sec\n",
            "\n",
            "Epoch: 133 | Loss: 53.6177 | Accuracy: 0.0618 | Val Loss: 6.4604 | Val Accuracy: 0.0062\n",
            "Time taken for epoch 133 22.391366481781006 sec\n",
            "\n",
            "Epoch: 134 | Loss: 32.4733 | Accuracy: 0.0947 | Val Loss: 4.8516 | Val Accuracy: 0.0116\n",
            "Time taken for epoch 134 22.34550976753235 sec\n",
            "\n",
            "Epoch: 135 | Loss: 21.8613 | Accuracy: 0.1212 | Val Loss: 3.8969 | Val Accuracy: 0.0160\n",
            "Time taken for epoch 135 22.39436936378479 sec\n",
            "\n",
            "Epoch: 136 | Loss: 15.0947 | Accuracy: 0.1466 | Val Loss: 3.1381 | Val Accuracy: 0.0187\n",
            "Time taken for epoch 136 22.41999650001526 sec\n",
            "\n",
            "Epoch: 137 | Loss: 11.4483 | Accuracy: 0.1714 | Val Loss: 2.6788 | Val Accuracy: 0.0195\n",
            "Time taken for epoch 137 22.45180583000183 sec\n",
            "\n",
            "Epoch: 138 | Loss: 9.4120 | Accuracy: 0.1749 | Val Loss: 2.3486 | Val Accuracy: 0.0192\n",
            "Time taken for epoch 138 22.372957944869995 sec\n",
            "\n",
            "Epoch: 139 | Loss: 7.9970 | Accuracy: 0.1775 | Val Loss: 2.1081 | Val Accuracy: 0.0193\n",
            "Time taken for epoch 139 22.332348108291626 sec\n",
            "\n",
            "Epoch: 140 | Loss: 6.8207 | Accuracy: 0.1815 | Val Loss: 1.9047 | Val Accuracy: 0.0211\n",
            "Time taken for epoch 140 25.208982706069946 sec\n",
            "\n",
            "Epoch: 141 | Loss: 6.0605 | Accuracy: 0.1837 | Val Loss: 1.7693 | Val Accuracy: 0.0212\n",
            "Time taken for epoch 141 22.453683853149414 sec\n",
            "\n",
            "Epoch: 142 | Loss: 5.5621 | Accuracy: 0.1877 | Val Loss: 1.6502 | Val Accuracy: 0.0202\n",
            "Time taken for epoch 142 22.344855308532715 sec\n",
            "\n",
            "Epoch: 143 | Loss: 5.1955 | Accuracy: 0.1903 | Val Loss: 1.5510 | Val Accuracy: 0.0207\n",
            "Time taken for epoch 143 22.361953735351562 sec\n",
            "\n",
            "Epoch: 144 | Loss: 4.9042 | Accuracy: 0.1923 | Val Loss: 1.4591 | Val Accuracy: 0.0216\n",
            "Time taken for epoch 144 22.45532774925232 sec\n",
            "\n",
            "Epoch: 145 | Loss: 4.6402 | Accuracy: 0.1966 | Val Loss: 1.3814 | Val Accuracy: 0.0215\n",
            "Time taken for epoch 145 22.374724626541138 sec\n",
            "\n",
            "Epoch: 146 | Loss: 4.3972 | Accuracy: 0.1988 | Val Loss: 1.3089 | Val Accuracy: 0.0219\n",
            "Time taken for epoch 146 22.47808003425598 sec\n",
            "\n",
            "Epoch: 147 | Loss: 4.1947 | Accuracy: 0.2008 | Val Loss: 1.2486 | Val Accuracy: 0.0213\n",
            "Time taken for epoch 147 22.494564533233643 sec\n",
            "\n",
            "Epoch: 148 | Loss: 4.0337 | Accuracy: 0.2033 | Val Loss: 1.1991 | Val Accuracy: 0.0211\n",
            "Time taken for epoch 148 22.41342830657959 sec\n",
            "\n",
            "Epoch: 149 | Loss: 3.9141 | Accuracy: 0.2030 | Val Loss: 1.1472 | Val Accuracy: 0.0213\n",
            "Time taken for epoch 149 22.45477032661438 sec\n",
            "\n",
            "Epoch: 150 | Loss: 3.8033 | Accuracy: 0.2034 | Val Loss: 1.1034 | Val Accuracy: 0.0221\n",
            "Time taken for epoch 150 22.414461612701416 sec\n",
            "\n",
            "Epoch: 151 | Loss: 3.7269 | Accuracy: 0.2052 | Val Loss: 1.0674 | Val Accuracy: 0.0232\n",
            "Time taken for epoch 151 22.38109803199768 sec\n",
            "\n",
            "Epoch: 152 | Loss: 3.6547 | Accuracy: 0.2058 | Val Loss: 1.0306 | Val Accuracy: 0.0231\n",
            "Time taken for epoch 152 22.365219593048096 sec\n",
            "\n",
            "Epoch: 153 | Loss: 3.5806 | Accuracy: 0.2101 | Val Loss: 0.9976 | Val Accuracy: 0.0232\n",
            "Time taken for epoch 153 22.454134702682495 sec\n",
            "\n",
            "Epoch: 154 | Loss: 155.6795 | Accuracy: 0.0473 | Val Loss: 7.0224 | Val Accuracy: 0.0016\n",
            "Time taken for epoch 154 22.353864192962646 sec\n",
            "\n",
            "Epoch: 155 | Loss: 70.6243 | Accuracy: 0.0465 | Val Loss: 11.0444 | Val Accuracy: 0.0025\n",
            "Time taken for epoch 155 22.435530185699463 sec\n",
            "\n",
            "Epoch: 156 | Loss: 46.6618 | Accuracy: 0.0474 | Val Loss: 2.7363 | Val Accuracy: 0.0081\n",
            "Time taken for epoch 156 22.432936668395996 sec\n",
            "\n",
            "Epoch: 157 | Loss: 12.8876 | Accuracy: 0.1083 | Val Loss: 1.3889 | Val Accuracy: 0.0140\n",
            "Time taken for epoch 157 22.39337968826294 sec\n",
            "\n",
            "Epoch: 158 | Loss: 9.2691 | Accuracy: 0.1182 | Val Loss: 1.6275 | Val Accuracy: 0.0084\n",
            "Time taken for epoch 158 22.492023229599 sec\n",
            "\n",
            "Epoch: 159 | Loss: 7.0324 | Accuracy: 0.1221 | Val Loss: 0.9907 | Val Accuracy: 0.0140\n",
            "Time taken for epoch 159 22.409433126449585 sec\n",
            "\n",
            "Epoch: 160 | Loss: 5.4103 | Accuracy: 0.1365 | Val Loss: 0.8869 | Val Accuracy: 0.0142\n",
            "Time taken for epoch 160 25.20135807991028 sec\n",
            "\n",
            "Epoch: 161 | Loss: 4.8350 | Accuracy: 0.1424 | Val Loss: 0.8210 | Val Accuracy: 0.0163\n",
            "Time taken for epoch 161 22.485708475112915 sec\n",
            "\n",
            "Epoch: 162 | Loss: 4.5055 | Accuracy: 0.1502 | Val Loss: 0.7798 | Val Accuracy: 0.0160\n",
            "Time taken for epoch 162 22.41875910758972 sec\n",
            "\n",
            "Epoch: 163 | Loss: 4.2983 | Accuracy: 0.1532 | Val Loss: 0.7460 | Val Accuracy: 0.0173\n",
            "Time taken for epoch 163 22.357062578201294 sec\n",
            "\n",
            "Epoch: 164 | Loss: 4.1298 | Accuracy: 0.1590 | Val Loss: 0.7233 | Val Accuracy: 0.0176\n",
            "Time taken for epoch 164 22.380178689956665 sec\n",
            "\n",
            "Epoch: 165 | Loss: 4.0072 | Accuracy: 0.1625 | Val Loss: 0.6964 | Val Accuracy: 0.0180\n",
            "Time taken for epoch 165 22.418302059173584 sec\n",
            "\n",
            "Epoch: 166 | Loss: 3.8988 | Accuracy: 0.1675 | Val Loss: 0.6809 | Val Accuracy: 0.0182\n",
            "Time taken for epoch 166 22.436959266662598 sec\n",
            "\n",
            "Epoch: 167 | Loss: 3.7997 | Accuracy: 0.1756 | Val Loss: 0.6591 | Val Accuracy: 0.0196\n",
            "Time taken for epoch 167 22.36961841583252 sec\n",
            "\n",
            "Epoch: 168 | Loss: 3.7132 | Accuracy: 0.1799 | Val Loss: 0.6456 | Val Accuracy: 0.0203\n",
            "Time taken for epoch 168 22.450472593307495 sec\n",
            "\n",
            "Epoch: 169 | Loss: 3.6722 | Accuracy: 0.1822 | Val Loss: 0.6348 | Val Accuracy: 0.0202\n",
            "Time taken for epoch 169 22.40427541732788 sec\n",
            "\n",
            "Epoch: 170 | Loss: 3.6059 | Accuracy: 0.1832 | Val Loss: 0.6233 | Val Accuracy: 0.0204\n",
            "Time taken for epoch 170 22.321653366088867 sec\n",
            "\n",
            "Epoch: 171 | Loss: 3.5543 | Accuracy: 0.1880 | Val Loss: 0.6093 | Val Accuracy: 0.0196\n",
            "Time taken for epoch 171 22.309778451919556 sec\n",
            "\n",
            "Epoch: 172 | Loss: 3.5075 | Accuracy: 0.1904 | Val Loss: 0.5962 | Val Accuracy: 0.0211\n",
            "Time taken for epoch 172 22.359408617019653 sec\n",
            "\n",
            "Epoch: 173 | Loss: 3.4565 | Accuracy: 0.1952 | Val Loss: 0.5825 | Val Accuracy: 0.0215\n",
            "Time taken for epoch 173 22.3336763381958 sec\n",
            "\n",
            "Epoch: 174 | Loss: 3.4143 | Accuracy: 0.1989 | Val Loss: 0.5729 | Val Accuracy: 0.0221\n",
            "Time taken for epoch 174 22.391801595687866 sec\n",
            "\n",
            "Epoch: 175 | Loss: 3.3715 | Accuracy: 0.2027 | Val Loss: 0.5665 | Val Accuracy: 0.0206\n",
            "Time taken for epoch 175 22.44265079498291 sec\n",
            "\n",
            "Epoch: 176 | Loss: 3.3337 | Accuracy: 0.2060 | Val Loss: 0.5548 | Val Accuracy: 0.0215\n",
            "Time taken for epoch 176 22.315873861312866 sec\n",
            "\n",
            "Epoch: 177 | Loss: 13.4809 | Accuracy: 0.1958 | Val Loss: 37.1277 | Val Accuracy: 0.0000\n",
            "Time taken for epoch 177 22.309231519699097 sec\n",
            "\n",
            "Epoch: 178 | Loss: 236.9010 | Accuracy: 0.0358 | Val Loss: 17.2155 | Val Accuracy: 0.0064\n",
            "Time taken for epoch 178 22.39181089401245 sec\n",
            "\n",
            "Epoch: 179 | Loss: 84.5959 | Accuracy: 0.0759 | Val Loss: 7.3540 | Val Accuracy: 0.0065\n",
            "Time taken for epoch 179 22.3480703830719 sec\n",
            "\n",
            "Epoch: 180 | Loss: 35.8042 | Accuracy: 0.1032 | Val Loss: 4.4792 | Val Accuracy: 0.0130\n",
            "Time taken for epoch 180 25.176114559173584 sec\n",
            "\n",
            "Epoch: 181 | Loss: 20.4964 | Accuracy: 0.1172 | Val Loss: 3.3508 | Val Accuracy: 0.0141\n",
            "Time taken for epoch 181 22.401187658309937 sec\n",
            "\n",
            "Epoch: 182 | Loss: 13.9838 | Accuracy: 0.1287 | Val Loss: 3.0192 | Val Accuracy: 0.0157\n",
            "Time taken for epoch 182 22.364519834518433 sec\n",
            "\n",
            "Epoch: 183 | Loss: 11.6055 | Accuracy: 0.1371 | Val Loss: 2.8028 | Val Accuracy: 0.0148\n",
            "Time taken for epoch 183 22.418515920639038 sec\n",
            "\n",
            "Epoch: 184 | Loss: 10.0230 | Accuracy: 0.1446 | Val Loss: 2.5656 | Val Accuracy: 0.0169\n",
            "Time taken for epoch 184 22.360746383666992 sec\n",
            "\n",
            "Epoch: 185 | Loss: 8.7691 | Accuracy: 0.1536 | Val Loss: 2.3541 | Val Accuracy: 0.0171\n",
            "Time taken for epoch 185 22.350610733032227 sec\n",
            "\n",
            "Epoch: 186 | Loss: 7.7734 | Accuracy: 0.1603 | Val Loss: 2.1568 | Val Accuracy: 0.0175\n",
            "Time taken for epoch 186 22.333709955215454 sec\n",
            "\n",
            "Epoch: 187 | Loss: 6.9370 | Accuracy: 0.1659 | Val Loss: 1.9956 | Val Accuracy: 0.0193\n",
            "Time taken for epoch 187 22.39008617401123 sec\n",
            "\n",
            "Epoch: 188 | Loss: 6.2814 | Accuracy: 0.1734 | Val Loss: 1.8795 | Val Accuracy: 0.0191\n",
            "Time taken for epoch 188 22.353522539138794 sec\n",
            "\n",
            "Epoch: 189 | Loss: 5.7691 | Accuracy: 0.1760 | Val Loss: 1.7769 | Val Accuracy: 0.0191\n",
            "Time taken for epoch 189 22.393391132354736 sec\n",
            "\n",
            "Epoch: 190 | Loss: 5.4104 | Accuracy: 0.1782 | Val Loss: 1.6917 | Val Accuracy: 0.0196\n",
            "Time taken for epoch 190 22.357991218566895 sec\n",
            "\n",
            "Epoch: 191 | Loss: 5.0729 | Accuracy: 0.1822 | Val Loss: 1.6147 | Val Accuracy: 0.0204\n",
            "Time taken for epoch 191 22.355886220932007 sec\n",
            "\n",
            "Epoch: 192 | Loss: 4.8249 | Accuracy: 0.1858 | Val Loss: 1.5494 | Val Accuracy: 0.0207\n",
            "Time taken for epoch 192 22.333410501480103 sec\n",
            "\n",
            "Epoch: 193 | Loss: 4.6353 | Accuracy: 0.1887 | Val Loss: 1.4865 | Val Accuracy: 0.0206\n",
            "Time taken for epoch 193 22.385385274887085 sec\n",
            "\n",
            "Epoch: 194 | Loss: 4.4888 | Accuracy: 0.1883 | Val Loss: 1.4334 | Val Accuracy: 0.0204\n",
            "Time taken for epoch 194 22.394808530807495 sec\n",
            "\n",
            "Epoch: 195 | Loss: 4.3454 | Accuracy: 0.1927 | Val Loss: 1.3813 | Val Accuracy: 0.0199\n",
            "Time taken for epoch 195 22.368635892868042 sec\n",
            "\n",
            "Epoch: 196 | Loss: 4.2197 | Accuracy: 0.1932 | Val Loss: 1.3367 | Val Accuracy: 0.0211\n",
            "Time taken for epoch 196 22.380970239639282 sec\n",
            "\n",
            "Epoch: 197 | Loss: 4.1344 | Accuracy: 0.1961 | Val Loss: 1.2973 | Val Accuracy: 0.0204\n",
            "Time taken for epoch 197 22.400349140167236 sec\n",
            "\n",
            "Epoch: 198 | Loss: 4.0640 | Accuracy: 0.1972 | Val Loss: 1.2556 | Val Accuracy: 0.0209\n",
            "Time taken for epoch 198 22.39663600921631 sec\n",
            "\n",
            "Epoch: 199 | Loss: 3.9876 | Accuracy: 0.1999 | Val Loss: 1.2216 | Val Accuracy: 0.0211\n",
            "Time taken for epoch 199 22.41229510307312 sec\n",
            "\n",
            "Epoch: 200 | Loss: 3.9006 | Accuracy: 0.1996 | Val Loss: 1.1865 | Val Accuracy: 0.0208\n",
            "Time taken for epoch 200 25.149739980697632 sec\n",
            "\n",
            "Time taken for the whole training phase is: 4501.9450488090515 sec\n"
          ],
          "name": "stdout"
        }
      ]
    },
    {
      "cell_type": "code",
      "metadata": {
        "id": "UJpT9D5_OgP6",
        "colab": {
          "base_uri": "https://localhost:8080/"
        },
        "outputId": "6b8399a5-a7db-4214-ec60-6e08b86bd38c"
      },
      "source": [
        "# restoring the latest checkpoint in checkpoint_dir\n",
        "checkpoint.restore(tf.train.latest_checkpoint(checkpoint_dir))"
      ],
      "execution_count": null,
      "outputs": [
        {
          "output_type": "execute_result",
          "data": {
            "text/plain": [
              "<tensorflow.python.training.tracking.util.CheckpointLoadStatus at 0x7fa99a8bd940>"
            ]
          },
          "metadata": {
            "tags": []
          },
          "execution_count": 86
        }
      ]
    },
    {
      "cell_type": "code",
      "metadata": {
        "id": "DxYDO-wrBUAa"
      },
      "source": [
        "f=open('History{}Units{}Epochs{}Run.txt'.format(units, EPOCHS, run),'w')\n",
        "# f.write('Total time:\\t' + str(total_time) + '\\t' + 'sec' + '\\n')\n",
        "f.write('TrainLoss\\t' + 'TrainAccuracy\\t' + 'ValLoss\\t' + 'ValAccuracy\\t' + 'Time\\n')\n",
        "for e in range(len(train_loss_vec)):\n",
        "    f.write(train_loss_vec[e]+'\\t'+ train_accuracy_vec[e]+ '\\t' + val_loss_vec[e]+ '\\t' + val_accuracy_vec[e]+ '\\t' + str(time_vec[e]) + '\\n')\n",
        "\n",
        "\n",
        "f.close()"
      ],
      "execution_count": null,
      "outputs": []
    },
    {
      "cell_type": "code",
      "metadata": {
        "id": "GERgZiI7BJUm"
      },
      "source": [
        "history = [[],[],[],[], []]\n",
        "with open('History{}Units{}Epochs{}Run.txt'.format(units, EPOCHS, run)) as infile:\n",
        "  next(infile)\n",
        "  for line in infile:\n",
        "        history[0].append(float(line.split()[0]))\n",
        "        history[1].append(float(line.split()[1]))\n",
        "        history[2].append(float(line.split()[2]))\n",
        "        history[3].append(float(line.split()[3]))\n",
        "        history[4].append(float(line.split()[4]))"
      ],
      "execution_count": null,
      "outputs": []
    },
    {
      "cell_type": "code",
      "metadata": {
        "id": "idFzaOp0MaW9",
        "colab": {
          "base_uri": "https://localhost:8080/",
          "height": 683
        },
        "outputId": "0a9a8c41-349b-4c14-c5aa-a306c6df73aa"
      },
      "source": [
        "#Model Loss\n",
        "fig = plt.figure(figsize=(9,5))\n",
        "ax = fig.add_subplot(1, 1, 1)\n",
        "line1 = ax.plot(history[0])\n",
        "line2 = ax.plot(history[2])\n",
        "ax.set_title('Model Loss')\n",
        "ax.set_ylabel('Loss')\n",
        "ax.set_xlabel('Epochs')\n",
        "ax.legend(('Train Loss', 'Val Loss'))\n",
        "plt.savefig('Model[Units{}Epochs{}Run{}]Loss'.format(units, EPOCHS, run))\n",
        "\n",
        "#Model Accuracy\n",
        "fig = plt.figure(figsize=(9,5))\n",
        "ax = fig.add_subplot(1, 1, 1)\n",
        "line1 = ax.plot(history[1])\n",
        "line2 = ax.plot(history[3])\n",
        "ax.set_title('Model Accuracy')\n",
        "ax.set_ylabel('Accuracy')\n",
        "ax.set_xlabel('Epochs')\n",
        "ax.legend(('Train Accuracy', 'Val Accuracy'))\n",
        "plt.savefig('Model[Units{}Epochs{}Run{}]Accuracy'.format(units, EPOCHS, run))"
      ],
      "execution_count": null,
      "outputs": [
        {
          "output_type": "display_data",
          "data": {
            "image/png": "[encoded data removed]",
            "text/plain": [
              "<Figure size 648x360 with 1 Axes>"
            ]
          },
          "metadata": {
            "tags": [],
            "needs_background": "light"
          }
        },
        {
          "output_type": "display_data",
          "data": {
            "image/png": "[encoded data removed]",
            "text/plain": [
              "<Figure size 648x360 with 1 Axes>"
            ]
          },
          "metadata": {
            "tags": [],
            "needs_background": "light"
          }
        }
      ]
    },
    {
      "cell_type": "markdown",
      "metadata": {
        "id": "jiPCwPdUVSZ5"
      },
      "source": [
        "##Inference"
      ]
    },
    {
      "cell_type": "code",
      "metadata": {
        "id": "XhkcWcijMop5"
      },
      "source": [
        "def preprocess_sentence(sentence):\n",
        "\n",
        "  sentence = prep_sent(sentence)\n",
        "  sentence = '<start> ' + sentence + ' <end>'\n",
        "  return sentence"
      ],
      "execution_count": null,
      "outputs": []
    },
    {
      "cell_type": "code",
      "metadata": {
        "id": "mRtlN3aKHTSq"
      },
      "source": [
        "def plot_attention(attention, sentence, predicted_sentence):\n",
        "  fig = plt.figure(figsize=(5,5))\n",
        "  ax = fig.add_subplot(1, 1, 1)\n",
        "  ax.matshow(attention, cmap='viridis')\n",
        "\n",
        "  fontdict = {'fontsize': 14}\n",
        "\n",
        "  ax.set_xticklabels([''] + sentence, fontdict=fontdict, rotation=90)\n",
        "  ax.set_yticklabels([''] + predicted_sentence, fontdict=fontdict)\n",
        "\n",
        "  ax.xaxis.set_major_locator(ticker.MultipleLocator(1))\n",
        "  ax.yaxis.set_major_locator(ticker.MultipleLocator(1))\n",
        "\n",
        "  plt.show()"
      ],
      "execution_count": null,
      "outputs": []
    },
    {
      "cell_type": "code",
      "metadata": {
        "id": "EbQpyYs13jF_"
      },
      "source": [
        "def evaluate_sentence(sentence):\n",
        "  sentence = preprocess_sentence(sentence)\n",
        "\n",
        "  inputs = [inp_lang.word_index[i] for i in sentence.split(' ')]\n",
        "  inputs = tf.keras.preprocessing.sequence.pad_sequences([inputs],\n",
        "                                                          maxlen=max_length_input,\n",
        "                                                          padding='post')\n",
        "  inputs = tf.convert_to_tensor(inputs)\n",
        "  inference_batch_size = inputs.shape[0]\n",
        "  result = ''\n",
        "\n",
        "  enc_start_state = [tf.zeros((inference_batch_size, units)) for i in range(4)] # check\n",
        "  enc_out, enc_h, enc_c = encoder(inputs, enc_start_state)\n",
        "\n",
        "  dec_h = enc_h\n",
        "  dec_c = enc_c\n",
        "\n",
        "  start_tokens = tf.fill([inference_batch_size], targ_lang.word_index['<start>'])\n",
        "  end_token = targ_lang.word_index['<end>']\n",
        "\n",
        "  emb_sampler = tfa.seq2seq.SampleEmbeddingSampler()\n",
        "\n",
        "  decoder_instance = tfa.seq2seq.BasicDecoder(cell=decoder.rnn_cell, sampler=emb_sampler, output_layer=decoder.fc)\n",
        "\n",
        "  decoder.attention_mechanism.setup_memory(enc_out)\n",
        "\n",
        "  decoder_initial_state = decoder.build_initial_state(inference_batch_size, [enc_h, enc_c], tf.float32)\n",
        "\n",
        "  decoder_embedding_matrix = decoder.embedding.variables[0]\n",
        "  \n",
        "  outputs, _, _  = decoder_instance(decoder_embedding_matrix, start_tokens = start_tokens, end_token= end_token, initial_state=decoder_initial_state)\n",
        "  attentions = decoder.get_attention_weights()\n",
        "\n",
        "  return outputs.sample_id.numpy(), attentions\n",
        "\n",
        "def translate(sentence):\n",
        "  result, attention_plot = evaluate_sentence(sentence)\n",
        "  plot = [attention_plot[i].numpy() for i in range(len(attention_plot))]\n",
        "\n",
        "  result = targ_lang.sequences_to_texts(result)\n",
        "  result_cast = str(result[0]).split(' ')\n",
        "  sentence_cast = sentence.split(' ')\n",
        "\n",
        "  print('Chatbot Output: {}'.format(result[0]))\n",
        "\n",
        "  len_res = len(result_cast)\n",
        "  len_sent = len(sentence_cast)\n",
        "  plt = plot\n",
        "  plot = plot[0][:len_res, :len_sent]\n",
        "  plot_attention(plot, sentence_cast, result_cast)\n",
        "  print('----------------------------')"
      ],
      "execution_count": null,
      "outputs": []
    },
    {
      "cell_type": "code",
      "metadata": {
        "id": "QZWTacz9Bcrj"
      },
      "source": [
        "\n",
        "class ChatBot:\n",
        "  exit_commands = (\"quit\", \"pause\", \"exit\", \"goodbye\", \"bye\", \"later\", \"stop\")\n",
        "  def start_chat(self):\n",
        "    user_response = input(\"Hello, I am T-800. How can I destroy you?\\n\")\n",
        "    \n",
        "    self.chat(user_response)\n",
        "\n",
        "  def chat(self, reply):\n",
        "    while not self.make_exit(reply):\n",
        "      reply = input(str(translate(reply))+\"\\n\")\n",
        "    \n",
        "\n",
        "  def make_exit(self, reply):\n",
        "    for exit_command in self.exit_commands:\n",
        "      if exit_command in reply:\n",
        "        print(\"Ok, see you in Matrix!\")\n",
        "        return True\n",
        "    return False\n",
        "  \n",
        "chatbot = ChatBot()"
      ],
      "execution_count": null,
      "outputs": []
    },
    {
      "cell_type": "code",
      "metadata": {
        "id": "ONvJeTWOIymk"
      },
      "source": [
        ""
      ],
      "execution_count": null,
      "outputs": []
    },
    {
      "cell_type": "markdown",
      "metadata": {
        "id": "SsqnWwebg_2X"
      },
      "source": [
        "## Dialogue"
      ]
    },
    {
      "cell_type": "code",
      "metadata": {
        "id": "zRLj8vpWASyo",
        "colab": {
          "base_uri": "https://localhost:8080/",
          "height": 454
        },
        "outputId": "cad5fb72-21cd-4832-af65-5c6c432a0ea9"
      },
      "source": [
        "chatbot.start_chat()"
      ],
      "execution_count": null,
      "outputs": [
        {
          "output_type": "stream",
          "text": [
            "Hello, I am T-800. How can I destroy you?\n",
            "how are you?\n",
            "Chatbot Output: screw on at the person . just in vagina . <end>\n"
          ],
          "name": "stdout"
        },
        {
          "output_type": "display_data",
          "data": {
            "image/png": "[encoded data removed]",
            "text/plain": [
              "<Figure size 360x360 with 1 Axes>"
            ]
          },
          "metadata": {
            "tags": [],
            "needs_background": "light"
          }
        },
        {
          "output_type": "stream",
          "text": [
            "----------------------------\n"
          ],
          "name": "stdout"
        }
      ]
    },
    {
      "cell_type": "code",
      "metadata": {
        "id": "cuDDcjjEHDpV"
      },
      "source": [
        ""
      ],
      "execution_count": null,
      "outputs": []
    },
    {
      "cell_type": "code",
      "metadata": {
        "id": "Uu9ZuEyHwH0F",
        "colab": {
          "base_uri": "https://localhost:8080/",
          "height": 1000
        },
        "outputId": "88cf6d85-781f-4ab7-ca96-02185c0bb1f7"
      },
      "source": [
        "# feed the model with its previous output\n",
        "sentence = 'You are not alone!'\n",
        "for _ in range(5):\n",
        "  sentence = str(translate(sentence))\n",
        "  print('')"
      ],
      "execution_count": null,
      "outputs": [
        {
          "output_type": "stream",
          "text": [
            "Chatbot Output: i have seen nick i <end>\n"
          ],
          "name": "stdout"
        },
        {
          "output_type": "display_data",
          "data": {
            "image/png": "[encoded data removed]",
            "text/plain": [
              "<Figure size 360x360 with 1 Axes>"
            ]
          },
          "metadata": {
            "tags": [],
            "needs_background": "light"
          }
        },
        {
          "output_type": "stream",
          "text": [
            "----------------------------\n",
            "\n",
            "Chatbot Output: did they down the mother <end>\n"
          ],
          "name": "stdout"
        },
        {
          "output_type": "display_data",
          "data": {
            "image/png": "[encoded data removed]",
            "text/plain": [
              "<Figure size 360x360 with 1 Axes>"
            ]
          },
          "metadata": {
            "tags": [],
            "needs_background": "light"
          }
        },
        {
          "output_type": "stream",
          "text": [
            "----------------------------\n",
            "\n",
            "Chatbot Output: the land were you know <end>\n"
          ],
          "name": "stdout"
        },
        {
          "output_type": "display_data",
          "data": {
            "image/png": "[encoded data removed]",
            "text/plain": [
              "<Figure size 360x360 with 1 Axes>"
            ]
          },
          "metadata": {
            "tags": [],
            "needs_background": "light"
          }
        },
        {
          "output_type": "stream",
          "text": [
            "----------------------------\n",
            "\n",
            "Chatbot Output: did they find it ? <end>\n"
          ],
          "name": "stdout"
        },
        {
          "output_type": "display_data",
          "data": {
            "image/png": "[encoded data removed]",
            "text/plain": [
              "<Figure size 360x360 with 1 Axes>"
            ]
          },
          "metadata": {
            "tags": [],
            "needs_background": "light"
          }
        },
        {
          "output_type": "stream",
          "text": [
            "----------------------------\n",
            "\n",
            "Chatbot Output: what is it ? <end>\n"
          ],
          "name": "stdout"
        },
        {
          "output_type": "display_data",
          "data": {
            "image/png": "[encoded data removed]",
            "text/plain": [
              "<Figure size 360x360 with 1 Axes>"
            ]
          },
          "metadata": {
            "tags": [],
            "needs_background": "light"
          }
        },
        {
          "output_type": "stream",
          "text": [
            "----------------------------\n",
            "\n"
          ],
          "name": "stdout"
        }
      ]
    }
  ]
}